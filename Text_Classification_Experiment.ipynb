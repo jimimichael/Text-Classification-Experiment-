{
  "cells": [
    {
      "cell_type": "markdown",
      "metadata": {
        "id": "X5STebfdPXqm"
      },
      "source": [
        "Experiment 2:\n",
        "\n",
        "* Use a Baseline model (Neural Network)\n",
        "* Language modeling (Glove) with and without data augmentation\n",
        "* Compare performance of baseline with that of Glove in learning the classes with and without data augmentation."
      ]
    },
    {
      "cell_type": "code",
      "execution_count": null,
      "metadata": {
        "id": "yCcXsWpMfe94"
      },
      "outputs": [],
      "source": [
        "import tensorflow as tf\n",
        "import tensorflow_hub as hub\n",
        "\n",
        "#Importing packages\n",
        "\n",
        "import pandas as pd \n",
        "import numpy as np\n",
        "import os\n",
        "import sys\n",
        "\n",
        "import matplotlib \n",
        "import matplotlib.pyplot as plt\n",
        "import seaborn as sns\n",
        "%matplotlib inline\n",
        "sns.set_style('whitegrid')\n",
        "\n",
        "# text pre-processing\n",
        "import re, string\n",
        "from sklearn.feature_extraction.text import TfidfTransformer\n",
        "from sklearn.feature_extraction.text import CountVectorizer\n",
        "import nltk\n",
        "from nltk.tokenize import word_tokenize\n",
        "from nltk.corpus import stopwords\n",
        "from nltk.stem import SnowballStemmer\n",
        "from nltk.corpus import wordnet\n",
        "from nltk.stem.wordnet import WordNetLemmatizer\n",
        "\n",
        "from tqdm.auto import tqdm\n",
        "from sklearn.utils import shuffle\n",
        "\n",
        "nltk.download('punkt')\n",
        "nltk.download('averaged_perceptron_tagger')\n",
        "nltk.download('wordnet')\n",
        "\n",
        "#model building\n",
        "from sklearn.model_selection import train_test_split\n",
        "from sklearn.metrics import classification_report, f1_score, accuracy_score, confusion_matrix, precision_score, recall_score\n",
        "import sklearn.metrics as metrics\n",
        "from keras.preprocessing.text import Tokenizer\n",
        "from keras.preprocessing.sequence import pad_sequences\n",
        "from keras.models import Sequential\n",
        "from keras.layers import Dense, Embedding, LSTM, SpatialDropout1D, Dropout\n",
        "from keras.utils.np_utils import to_categorical\n",
        "from keras.callbacks import EarlyStopping\n",
        "\n",
        "\n",
        "from keras.layers import (LSTM, Embedding, BatchNormalization, Dense, Bidirectional, GlobalMaxPool1D)\n",
        "                          \n",
        "from keras.layers.core.flatten import Flatten\n",
        "from keras.layers.convolutional import MaxPooling1D\n",
        "from keras.layers.convolutional import Conv1D\n",
        "\n",
        "from keras.preprocessing import sequence, text\n",
        "\n",
        "#import regular expressions \n",
        "import re\n",
        "\n",
        "#for word embedding\n",
        "! pip install gensim #install gensim\n",
        "\n",
        "import gensim\n",
        "from gensim.utils import simple_preprocess\n",
        "from gensim.models import Word2Vec\n",
        "\n",
        "\n",
        "# for text processing\n",
        "! pip install spacy\n",
        "\n",
        "! pip install tokenization\n",
        "! pip install keras\n",
        "\n",
        "import tokenization\n",
        "import tensorflow as tf\n",
        "import tensorflow_hub as hub\n",
        "from tensorflow.keras.utils import to_categorical\n",
        "from sklearn import preprocessing\n",
        "\n",
        "import spacy \n",
        "\n",
        "# install wordcloud\n",
        "! pip install wordcloud\n",
        "\n",
        "import warnings\n",
        "warnings.filterwarnings(\"ignore\") # ignore SettingWithCopyWarning\n",
        "\n",
        "import nltk\n",
        "nltk.download('stopwords')\n",
        "\n",
        "from numpy.random import seed # set random seed\n",
        "seed(1)"
      ]
    },
    {
      "cell_type": "code",
      "execution_count": null,
      "metadata": {
        "id": "rbXW85YhfXuy"
      },
      "outputs": [],
      "source": [
        "#load data\n",
        "df = pd.read_csv('/content/drive/MyDrive/Applied A.I assignment/amazon_alexa.tsv', sep='\\t')"
      ]
    },
    {
      "cell_type": "code",
      "execution_count": null,
      "metadata": {
        "colab": {
          "base_uri": "https://localhost:8080/"
        },
        "id": "TE9xcGZ_fpUq",
        "outputId": "d85c50e5-fd99-4224-a2b7-e2a333542a46"
      },
      "outputs": [
        {
          "output_type": "execute_result",
          "data": {
            "text/plain": [
              "1    2893\n",
              "0     257\n",
              "Name: feedback, dtype: int64"
            ]
          },
          "metadata": {},
          "execution_count": 3
        }
      ],
      "source": [
        "#Check label distribution\n",
        "df.feedback.value_counts()"
      ]
    },
    {
      "cell_type": "code",
      "execution_count": null,
      "metadata": {
        "colab": {
          "base_uri": "https://localhost:8080/"
        },
        "id": "qKUYg9NPfwSC",
        "outputId": "8c42a916-1b2d-4b3a-cae1-0f07adfd0eb3"
      },
      "outputs": [
        {
          "output_type": "execute_result",
          "data": {
            "text/plain": [
              "rating              0\n",
              "date                0\n",
              "variation           0\n",
              "verified_reviews    0\n",
              "feedback            0\n",
              "dtype: int64"
            ]
          },
          "metadata": {},
          "execution_count": 4
        }
      ],
      "source": [
        "df.isna().sum() #dataset is clean - confirmed"
      ]
    },
    {
      "cell_type": "code",
      "execution_count": null,
      "metadata": {
        "colab": {
          "base_uri": "https://localhost:8080/",
          "height": 575
        },
        "id": "Hi3pb1LGfx20",
        "outputId": "1f675201-a5b0-47d6-9c1d-e850a5fe8835"
      },
      "outputs": [
        {
          "output_type": "display_data",
          "data": {
            "text/plain": [
              "<Figure size 720x720 with 1 Axes>"
            ],
            "image/png": "[encoded data removed]"
          },
          "metadata": {}
        }
      ],
      "source": [
        "#visualize target with pie chart\n",
        "\n",
        "plt.figure(figsize=(10,10))\n",
        "df.feedback.value_counts().plot.pie(autopct='%.2f');"
      ]
    },
    {
      "cell_type": "markdown",
      "source": [
        "92% (approx) of feedback are positive feedback."
      ],
      "metadata": {
        "id": "Z56o7BJyCHrb"
      }
    },
    {
      "cell_type": "code",
      "execution_count": null,
      "metadata": {
        "colab": {
          "base_uri": "https://localhost:8080/",
          "height": 497
        },
        "id": "inG1r-_YfzKj",
        "outputId": "ba440ce6-c1c0-4c64-9056-12b49a5e2cc0"
      },
      "outputs": [
        {
          "output_type": "display_data",
          "data": {
            "text/plain": [
              "<Figure size 720x576 with 1 Axes>"
            ],
            "image/png": "[encoded data removed]"
          },
          "metadata": {
            "needs_background": "light"
          }
        }
      ],
      "source": [
        "plt.figure(figsize=(10, 8))\n",
        "sns.countplot(x= 'feedback', data = df); #plot target"
      ]
    },
    {
      "cell_type": "code",
      "execution_count": null,
      "metadata": {
        "colab": {
          "base_uri": "https://localhost:8080/",
          "height": 144
        },
        "id": "w7z5KV4Kf1uF",
        "outputId": "38eca139-7045-454d-cc51-0a5116de617e"
      },
      "outputs": [
        {
          "output_type": "execute_result",
          "data": {
            "text/plain": [
              "   rating       date         variation  \\\n",
              "0       5  31-Jul-18  Charcoal Fabric    \n",
              "1       5  31-Jul-18  Charcoal Fabric    \n",
              "2       4  31-Jul-18    Walnut Finish    \n",
              "\n",
              "                                    verified_reviews  feedback  \n",
              "0                                      Love my Echo!         1  \n",
              "1                                          Loved it!         1  \n",
              "2  Sometimes while playing a game, you can answer...         1  "
            ],
            "text/html": [
              "\n",
              "  <div id=\"df-13dcf97d-441a-4935-a5fa-4ba4c19b692a\">\n",
              "    <div class=\"colab-df-container\">\n",
              "      <div>\n",
              "<style scoped>\n",
              "    .dataframe tbody tr th:only-of-type {\n",
              "        vertical-align: middle;\n",
              "    }\n",
              "\n",
              "    .dataframe tbody tr th {\n",
              "        vertical-align: top;\n",
              "    }\n",
              "\n",
              "    .dataframe thead th {\n",
              "        text-align: right;\n",
              "    }\n",
              "</style>\n",
              "<table border=\"1\" class=\"dataframe\">\n",
              "  <thead>\n",
              "    <tr style=\"text-align: right;\">\n",
              "      <th></th>\n",
              "      <th>rating</th>\n",
              "      <th>date</th>\n",
              "      <th>variation</th>\n",
              "      <th>verified_reviews</th>\n",
              "      <th>feedback</th>\n",
              "    </tr>\n",
              "  </thead>\n",
              "  <tbody>\n",
              "    <tr>\n",
              "      <th>0</th>\n",
              "      <td>5</td>\n",
              "      <td>31-Jul-18</td>\n",
              "      <td>Charcoal Fabric</td>\n",
              "      <td>Love my Echo!</td>\n",
              "      <td>1</td>\n",
              "    </tr>\n",
              "    <tr>\n",
              "      <th>1</th>\n",
              "      <td>5</td>\n",
              "      <td>31-Jul-18</td>\n",
              "      <td>Charcoal Fabric</td>\n",
              "      <td>Loved it!</td>\n",
              "      <td>1</td>\n",
              "    </tr>\n",
              "    <tr>\n",
              "      <th>2</th>\n",
              "      <td>4</td>\n",
              "      <td>31-Jul-18</td>\n",
              "      <td>Walnut Finish</td>\n",
              "      <td>Sometimes while playing a game, you can answer...</td>\n",
              "      <td>1</td>\n",
              "    </tr>\n",
              "  </tbody>\n",
              "</table>\n",
              "</div>\n",
              "      <button class=\"colab-df-convert\" onclick=\"convertToInteractive('df-13dcf97d-441a-4935-a5fa-4ba4c19b692a')\"\n",
              "              title=\"Convert this dataframe to an interactive table.\"\n",
              "              style=\"display:none;\">\n",
              "        \n",
              "  <svg xmlns=\"http://www.w3.org/2000/svg\" height=\"24px\"viewBox=\"0 0 24 24\"\n",
              "       width=\"24px\">\n",
              "    <path d=\"M0 0h24v24H0V0z\" fill=\"none\"/>\n",
              "    <path d=\"M18.56 5.44l.94 2.06.94-2.06 2.06-.94-2.06-.94-.94-2.06-.94 2.06-2.06.94zm-11 1L8.5 8.5l.94-2.06 2.06-.94-2.06-.94L8.5 2.5l-.94 2.06-2.06.94zm10 10l.94 2.06.94-2.06 2.06-.94-2.06-.94-.94-2.06-.94 2.06-2.06.94z\"/><path d=\"M17.41 7.96l-1.37-1.37c-.4-.4-.92-.59-1.43-.59-.52 0-1.04.2-1.43.59L10.3 9.45l-7.72 7.72c-.78.78-.78 2.05 0 2.83L4 21.41c.39.39.9.59 1.41.59.51 0 1.02-.2 1.41-.59l7.78-7.78 2.81-2.81c.8-.78.8-2.07 0-2.86zM5.41 20L4 18.59l7.72-7.72 1.47 1.35L5.41 20z\"/>\n",
              "  </svg>\n",
              "      </button>\n",
              "      \n",
              "  <style>\n",
              "    .colab-df-container {\n",
              "      display:flex;\n",
              "      flex-wrap:wrap;\n",
              "      gap: 12px;\n",
              "    }\n",
              "\n",
              "    .colab-df-convert {\n",
              "      background-color: #E8F0FE;\n",
              "      border: none;\n",
              "      border-radius: 50%;\n",
              "      cursor: pointer;\n",
              "      display: none;\n",
              "      fill: #1967D2;\n",
              "      height: 32px;\n",
              "      padding: 0 0 0 0;\n",
              "      width: 32px;\n",
              "    }\n",
              "\n",
              "    .colab-df-convert:hover {\n",
              "      background-color: #E2EBFA;\n",
              "      box-shadow: 0px 1px 2px rgba(60, 64, 67, 0.3), 0px 1px 3px 1px rgba(60, 64, 67, 0.15);\n",
              "      fill: #174EA6;\n",
              "    }\n",
              "\n",
              "    [theme=dark] .colab-df-convert {\n",
              "      background-color: #3B4455;\n",
              "      fill: #D2E3FC;\n",
              "    }\n",
              "\n",
              "    [theme=dark] .colab-df-convert:hover {\n",
              "      background-color: #434B5C;\n",
              "      box-shadow: 0px 1px 3px 1px rgba(0, 0, 0, 0.15);\n",
              "      filter: drop-shadow(0px 1px 2px rgba(0, 0, 0, 0.3));\n",
              "      fill: #FFFFFF;\n",
              "    }\n",
              "  </style>\n",
              "\n",
              "      <script>\n",
              "        const buttonEl =\n",
              "          document.querySelector('#df-13dcf97d-441a-4935-a5fa-4ba4c19b692a button.colab-df-convert');\n",
              "        buttonEl.style.display =\n",
              "          google.colab.kernel.accessAllowed ? 'block' : 'none';\n",
              "\n",
              "        async function convertToInteractive(key) {\n",
              "          const element = document.querySelector('#df-13dcf97d-441a-4935-a5fa-4ba4c19b692a');\n",
              "          const dataTable =\n",
              "            await google.colab.kernel.invokeFunction('convertToInteractive',\n",
              "                                                     [key], {});\n",
              "          if (!dataTable) return;\n",
              "\n",
              "          const docLinkHtml = 'Like what you see? Visit the ' +\n",
              "            '<a target=\"_blank\" href=https://colab.research.google.com/notebooks/data_table.ipynb>data table notebook</a>'\n",
              "            + ' to learn more about interactive tables.';\n",
              "          element.innerHTML = '';\n",
              "          dataTable['output_type'] = 'display_data';\n",
              "          await google.colab.output.renderOutput(dataTable, element);\n",
              "          const docLink = document.createElement('div');\n",
              "          docLink.innerHTML = docLinkHtml;\n",
              "          element.appendChild(docLink);\n",
              "        }\n",
              "      </script>\n",
              "    </div>\n",
              "  </div>\n",
              "  "
            ]
          },
          "metadata": {},
          "execution_count": 7
        }
      ],
      "source": [
        "df.head(3)"
      ]
    },
    {
      "cell_type": "markdown",
      "metadata": {
        "id": "ftPjGK1RhYtg"
      },
      "source": [
        "**Preprocessing**"
      ]
    },
    {
      "cell_type": "code",
      "execution_count": null,
      "metadata": {
        "id": "TogP7o1tgmor"
      },
      "outputs": [],
      "source": [
        "def preprocess(sentence):         #convert to lowercase & remove punctuation\n",
        "  sentence = sentence.lower()\n",
        "  sentence = sentence.strip()\n",
        "  sentence = re.compile('<.*?>').sub('', sentence)\n",
        "  sentence = re.compile('[%s]' % re.escape(string.punctuation)).sub(' ', sentence)\n",
        "  sentence = re.sub('\\s+', ' ', sentence)\n",
        "  sentence = re.sub(r'\\[[0-9]*\\']','',sentence)\n",
        "  sentence = re.sub(r'[^\\w\\s]', '', str(sentence).lower().strip())\n",
        "  sentence = re.sub(r'\\d', ' ', sentence)\n",
        "  sentence = re.sub(r'\\s+', ' ', sentence)\n",
        "  return sentence\n",
        "\n",
        "\n",
        "# remove stopword\n",
        "def stopword(string):\n",
        "  a = [i for i in string.split() if i not in stopwords.words('english')]\n",
        "  return ' '.join(a)\n",
        "\n",
        "\n",
        "# lemantization\n",
        "#initialize lemantizer\n",
        "word_lemmatizer = WordNetLemmatizer()\n",
        "\n",
        "# map NLTK position tags\n",
        "def get_wordnet_pos(tag):\n",
        "  if tag.startswith('J'):\n",
        "    return wordnet.ADJ\n",
        "  elif tag.startswith('V'):\n",
        "    return wordnet.VERB\n",
        "  elif tag.startswith('N'):\n",
        "    return wordnet.NOUN\n",
        "  elif tag.startswith('R'):\n",
        "    return wordnet.ADV\n",
        "  else:\n",
        "    return wordnet.NOUN\n",
        "\n",
        "\n",
        "#Tokenize sentence\n",
        "def lemmatizer(string):\n",
        "  word_pos_tags = nltk.pos_tag(word_tokenize(string)) #get position tags\n",
        "  a =[word_lemmatizer.lemmatize(tag[0], get_wordnet_pos(tag[1])) for idx, tag in enumerate(word_pos_tags)] #map position tag and lemmatize the word/token\n",
        "  return \" \".join(a)\n",
        "\n",
        "\n",
        "# final pre-processing\n",
        "def finalpreprocessing(string):\n",
        "  return lemmatizer(stopword(preprocess(string)))\n"
      ]
    },
    {
      "cell_type": "code",
      "execution_count": null,
      "metadata": {
        "colab": {
          "base_uri": "https://localhost:8080/"
        },
        "id": "XW5GNM8Sho3w",
        "outputId": "e4c19ba8-2a33-4d89-e35b-bbc2acf1a948"
      },
      "outputs": [
        {
          "output_type": "stream",
          "name": "stderr",
          "text": [
            "[nltk_data] Downloading package omw-1.4 to /root/nltk_data...\n"
          ]
        },
        {
          "output_type": "execute_result",
          "data": {
            "text/plain": [
              "0                                            love echo\n",
              "1                                                 love\n",
              "2    sometimes play game answer question correctly ...\n",
              "Name: cleaned, dtype: object"
            ]
          },
          "metadata": {},
          "execution_count": 9
        }
      ],
      "source": [
        "#import nltk\n",
        "import nltk\n",
        "nltk.download('omw-1.4')\n",
        "\n",
        "#apply preprocessing\n",
        "df['cleaned'] = df['verified_reviews'].apply(lambda x: finalpreprocessing(x))\n",
        "df.cleaned.head(3)"
      ]
    },
    {
      "cell_type": "code",
      "execution_count": null,
      "metadata": {
        "colab": {
          "base_uri": "https://localhost:8080/"
        },
        "id": "QFSsQ5N7x_RN",
        "outputId": "84f5ffb3-8e74-4cbe-b52a-b2ba8235111d"
      },
      "outputs": [
        {
          "output_type": "execute_result",
          "data": {
            "text/plain": [
              "255"
            ]
          },
          "metadata": {},
          "execution_count": 10
        }
      ],
      "source": [
        "df.cleaned.apply(lambda x: len(str(x).split())).max() #max words"
      ]
    },
    {
      "cell_type": "code",
      "source": [
        "#set positive & negative feedback\n",
        "target = {0: \"Negative\", 1: \"Positive\"}\n",
        "\n",
        "def encode_target(label):\n",
        "  return target[label]\n",
        "\n",
        "df.feedback = df.feedback.apply(lambda x: encode_target(x))"
      ],
      "metadata": {
        "id": "3QDFo1oqdgwx"
      },
      "execution_count": null,
      "outputs": []
    },
    {
      "cell_type": "code",
      "execution_count": null,
      "metadata": {
        "id": "RMd1KJXQ4sz4"
      },
      "outputs": [],
      "source": [
        "#create functions for baseline model, metrics and visualization\n",
        "\n",
        "labels = ['Positive', 'Negative']\n",
        "\n",
        "#Baseline (LSTM - RNN as baseline)\n",
        "def baseline():\n",
        "  # create model\n",
        "  model = Sequential()\n",
        "  model.add(Embedding(max_words, embedding_dim, input_length=X.shape[1]))\n",
        "  model.add(SpatialDropout1D(0.2))\n",
        "  model.add(LSTM(100, dropout=0.2, recurrent_dropout=0.2)) #100 LSTM units\n",
        "  model.add(Dense(2, activation='softmax'))\n",
        "  model.compile(loss='binary_crossentropy', optimizer='adam', metrics=['accuracy'])\n",
        "  return model\n",
        "\n",
        "\n",
        "def metrics(pred, y_test):\n",
        "  #convert test labels from one-hot encoding to single digits \n",
        "  #to generate evaluation metrics below\n",
        "    y_test_arg = np.argmax(y_test, axis=1) #returm max in array \n",
        "    pred_arg = np.argmax(model.predict(X_test), axis=1) #returm max in array\n",
        "    print(\"F1-score: \", round(f1_score(pred_arg, y_test_arg, average='weighted'),4)) #imbalanced target, weighted average \n",
        "    print(\"Precision: \", round(precision_score(pred_arg, y_test_arg, average='weighted'),4))\n",
        "    print(\"Recall: \", round(recall_score(pred_arg, y_test_arg, average='weighted'), 4))\n",
        "    print(\"Acuracy: \", round(accuracy_score(pred_arg, y_test_arg), 4))\n",
        "    print(\"-\" * 60)\n",
        "    print(classification_report(pred_arg, y_test_arg, target_names = labels))\n",
        "    print(\"---\" * 20)\n",
        "\n",
        "import itertools\n",
        "from sklearn.metrics import confusion_matrix, classification_report, accuracy_score\n",
        "def plot_confusion_matrix(cm, classes,\n",
        "                          title='Confusion matrix',\n",
        "                          cmap=plt.cm.Blues):\n",
        "    \n",
        "    #prints and plot the confusion matrix.\n",
        "\n",
        "    cm = cm.astype('float') / cm.sum(axis=1)[:, np.newaxis]\n",
        "\n",
        "    plt.imshow(cm, interpolation='nearest', cmap=cmap)\n",
        "    plt.title(title, fontsize=20)\n",
        "    plt.colorbar()\n",
        "    tick_marks = np.arange(len(classes))\n",
        "    plt.xticks(tick_marks, classes, fontsize=13)\n",
        "    plt.yticks(tick_marks, classes, fontsize=13)\n",
        "\n",
        "    fmt = '.2f'\n",
        "    thresh = cm.max() / 2.\n",
        "    for i, j in itertools.product(range(cm.shape[0]), range(cm.shape[1])):\n",
        "        plt.text(j, i, format(cm[i, j], fmt),\n",
        "                 horizontalalignment=\"center\",\n",
        "                 color=\"white\" if cm[i, j] > thresh else \"black\")\n",
        "\n",
        "    plt.ylabel('True label', fontsize=17)\n",
        "    plt.xlabel('Predicted label', fontsize=17)\n",
        "\n",
        "\n",
        "#'macro': Calculate metrics for each label, and find their unweighted mean. It does not take label \n",
        "#imbalance into account.\n",
        "#'weighted': Calculate metrics for each label, and find their average weighted by support (the number\n",
        "# of true instances for each label). It alters 'macro' to account for label imbalance; can result in an\n",
        "# F-score that is not between precision and recall.\n",
        "    \n",
        "def plot(history, acc):\n",
        "    fig, ax = plt.subplots(1, 2, figsize=(20, 5))\n",
        "    for idx in range(2):\n",
        "        ax[idx].plot(history.history[acc[idx][0]])\n",
        "        ax[idx].plot(history.history[acc[idx][1]])\n",
        "        ax[idx].legend([acc[idx][0], acc[idx][1]],fontsize=16)\n",
        "        ax[idx].set_title(acc[idx][0] + ' and ' + acc[idx][1],fontsize=16)"
      ]
    },
    {
      "cell_type": "markdown",
      "metadata": {
        "id": "AFr2RPNRoIgU"
      },
      "source": [
        "**Model Building**\n",
        "\n",
        "Without Data Augmentation"
      ]
    },
    {
      "cell_type": "markdown",
      "metadata": {
        "id": "RwykuBMvLTHY"
      },
      "source": [
        "Baseline Model"
      ]
    },
    {
      "cell_type": "code",
      "execution_count": null,
      "metadata": {
        "id": "Nw05ZNxmm4_p"
      },
      "outputs": [],
      "source": [
        "#tokenize & split data\n",
        "max_words = 50000 #max number of words to be used (most frequent)\n",
        "max_seq = 250 #max word count per review\n",
        "embedding_dim = 100\n",
        "\n",
        "\n",
        "tokenizer= Tokenizer(num_words=max_words, filters='!\"#$%&()*+,-./:;<=>?@[\\]^_`{|}~', lower =True)\n",
        "tokenizer.fit_on_texts(df['cleaned'].values)\n",
        "word_index = tokenizer.word_index\n",
        "\n",
        "vocab_length = len(tokenizer.word_index) + 1\n",
        "\n",
        "X = tokenizer.texts_to_sequences(df['cleaned'].values)\n",
        "X = pad_sequences(X, maxlen = max_seq)\n",
        "\n",
        "y = pd.get_dummies(df['feedback']).values #encode target\n",
        "\n",
        "X_train, X_test, y_train, y_test = train_test_split(X, y, test_size = 0.2, shuffle=True, random_state=1, stratify = y)"
      ]
    },
    {
      "cell_type": "code",
      "execution_count": null,
      "metadata": {
        "colab": {
          "base_uri": "https://localhost:8080/"
        },
        "id": "OLuincNLooNQ",
        "outputId": "7b4cd7c4-ac50-4262-b4d1-bafb926a20da"
      },
      "outputs": [
        {
          "output_type": "execute_result",
          "data": {
            "text/plain": [
              "((2520, 250), (2520, 2), (630, 250), (630, 2))"
            ]
          },
          "metadata": {},
          "execution_count": 14
        }
      ],
      "source": [
        "X_train.shape, y_train.shape, X_test.shape, y_test.shape #check shape"
      ]
    },
    {
      "cell_type": "code",
      "execution_count": null,
      "metadata": {
        "colab": {
          "base_uri": "https://localhost:8080/"
        },
        "id": "OlvK6P3jwFei",
        "outputId": "8da6edd8-946d-48bb-e261-7bb6e202fc35"
      },
      "outputs": [
        {
          "output_type": "stream",
          "name": "stdout",
          "text": [
            "Model: \"sequential\"\n",
            "_________________________________________________________________\n",
            " Layer (type)                Output Shape              Param #   \n",
            "=================================================================\n",
            " embedding (Embedding)       (None, 250, 100)          5000000   \n",
            "                                                                 \n",
            " spatial_dropout1d (SpatialD  (None, 250, 100)         0         \n",
            " ropout1D)                                                       \n",
            "                                                                 \n",
            " lstm (LSTM)                 (None, 100)               80400     \n",
            "                                                                 \n",
            " dense (Dense)               (None, 2)                 202       \n",
            "                                                                 \n",
            "=================================================================\n",
            "Total params: 5,080,602\n",
            "Trainable params: 5,080,602\n",
            "Non-trainable params: 0\n",
            "_________________________________________________________________\n"
          ]
        }
      ],
      "source": [
        "#instantiate model\n",
        "model = baseline()\n",
        "model.summary()"
      ]
    },
    {
      "cell_type": "code",
      "execution_count": null,
      "metadata": {
        "colab": {
          "base_uri": "https://localhost:8080/"
        },
        "id": "VpU4jQcFxiNj",
        "outputId": "f1f0122e-0642-4aad-e402-d3b76c66f283"
      },
      "outputs": [
        {
          "output_type": "stream",
          "name": "stdout",
          "text": [
            "Epoch 1/100\n",
            "36/36 [==============================] - 17s 390ms/step - loss: 0.3795 - accuracy: 0.9021 - val_loss: 0.2346 - val_accuracy: 0.9405\n",
            "Epoch 2/100\n",
            "36/36 [==============================] - 13s 369ms/step - loss: 0.2852 - accuracy: 0.9158 - val_loss: 0.2212 - val_accuracy: 0.9405\n",
            "Epoch 3/100\n",
            "36/36 [==============================] - 13s 370ms/step - loss: 0.2567 - accuracy: 0.9158 - val_loss: 0.1959 - val_accuracy: 0.9405\n",
            "Epoch 4/100\n",
            "36/36 [==============================] - 13s 372ms/step - loss: 0.1710 - accuracy: 0.9453 - val_loss: 0.1790 - val_accuracy: 0.9484\n",
            "Epoch 5/100\n",
            "36/36 [==============================] - 13s 371ms/step - loss: 0.0993 - accuracy: 0.9678 - val_loss: 0.1908 - val_accuracy: 0.9484\n",
            "Epoch 6/100\n",
            "36/36 [==============================] - 13s 371ms/step - loss: 0.0688 - accuracy: 0.9784 - val_loss: 0.1773 - val_accuracy: 0.9444\n",
            "Epoch 7/100\n",
            "36/36 [==============================] - 14s 388ms/step - loss: 0.0468 - accuracy: 0.9859 - val_loss: 0.1989 - val_accuracy: 0.9563\n",
            "Epoch 8/100\n",
            "36/36 [==============================] - 14s 375ms/step - loss: 0.0748 - accuracy: 0.9793 - val_loss: 0.4203 - val_accuracy: 0.9405\n",
            "Epoch 9/100\n",
            "36/36 [==============================] - 13s 373ms/step - loss: 0.1727 - accuracy: 0.9594 - val_loss: 0.1777 - val_accuracy: 0.9524\n"
          ]
        }
      ],
      "source": [
        "#fit LSTM model (baseline)\n",
        "earlystop = EarlyStopping(monitor='val_loss', min_delta=0, patience=3, verbose=0, mode='auto')\n",
        "\n",
        "history= model.fit(X_train, y_train, epochs=100, batch_size=64, validation_split=0.1, \n",
        "                   callbacks=[earlystop])"
      ]
    },
    {
      "cell_type": "code",
      "execution_count": null,
      "metadata": {
        "colab": {
          "base_uri": "https://localhost:8080/",
          "height": 303
        },
        "id": "Jpz5D2kpxiHf",
        "outputId": "c9651b60-f310-4e4a-c486-9cce6c6a0d5a"
      },
      "outputs": [
        {
          "output_type": "display_data",
          "data": {
            "text/plain": [
              "<Figure size 1440x360 with 2 Axes>"
            ],
            "image/png": "[encoded data removed]"
          },
          "metadata": {
            "needs_background": "light"
          }
        }
      ],
      "source": [
        "# generate plot\n",
        "plot(history, [['loss', 'val_loss'],['accuracy', 'val_accuracy']])"
      ]
    },
    {
      "cell_type": "code",
      "execution_count": null,
      "metadata": {
        "colab": {
          "base_uri": "https://localhost:8080/"
        },
        "id": "U6I1v80K4N7Y",
        "outputId": "30d39630-7afa-4ac6-83b8-6f0f95dc9e77"
      },
      "outputs": [
        {
          "output_type": "stream",
          "name": "stdout",
          "text": [
            "20/20 [==============================] - 1s 39ms/step - loss: 0.2115 - accuracy: 0.9333\n",
            "Baseline model accuracy: 93.33%\n"
          ]
        }
      ],
      "source": [
        "#evaluate model\n",
        "result = model.evaluate(X_test, y_test)\n",
        "print('Baseline model accuracy: %.2f%%' % (result[1] * 100))"
      ]
    },
    {
      "cell_type": "code",
      "source": [
        "# print(confusion_matrix(y_test, y_preds))\n",
        "\n",
        "# #plot confusion matrix\n",
        "# cnf_matrix = confusion_matrix(test_data.feedback.to_list(), y_pred_1d)\n",
        "# plt.figure(figsize=(8,8))\n",
        "# plot_confusion_matrix(cnf_matrix, classes=test_data.feedback.unique(), title=\"Confusion matrix\")\n",
        "# plt.show()"
      ],
      "metadata": {
        "id": "9-KtvfTfEwEy"
      },
      "execution_count": null,
      "outputs": []
    },
    {
      "cell_type": "code",
      "execution_count": null,
      "metadata": {
        "colab": {
          "base_uri": "https://localhost:8080/"
        },
        "id": "WV-Jc0Oy7Bk6",
        "outputId": "4c5e7956-c8f1-41bb-af7f-6e62e3314881"
      },
      "outputs": [
        {
          "output_type": "stream",
          "name": "stdout",
          "text": [
            "F1-score:  0.949\n",
            "Precision:  0.9732\n",
            "Recall:  0.9333\n",
            "Acuracy:  0.9333\n",
            "------------------------------------------------------------\n",
            "              precision    recall  f1-score   support\n",
            "\n",
            "    Positive       0.25      0.76      0.38        17\n",
            "    Negative       0.99      0.94      0.96       613\n",
            "\n",
            "    accuracy                           0.93       630\n",
            "   macro avg       0.62      0.85      0.67       630\n",
            "weighted avg       0.97      0.93      0.95       630\n",
            "\n",
            "------------------------------------------------------------\n"
          ]
        }
      ],
      "source": [
        "#generate metrics\n",
        "\n",
        "\n",
        "pred = model.predict(X_test)\n",
        "metrics(pred, y_test)"
      ]
    },
    {
      "cell_type": "markdown",
      "metadata": {
        "id": "pbjT4IDXVSET"
      },
      "source": [
        "Baseline: Simple LSTM with model.\n",
        "\n",
        "The baseline model performance recorded 93% accuracy with the model leaning towards the majority class (positive class). Balancing the target should be able to improve the scores from the classification report. This can be achieved through data augmentation for text instead of over/undersampling methods."
      ]
    },
    {
      "cell_type": "markdown",
      "metadata": {
        "id": "f_yavo-zU3J7"
      },
      "source": [
        "LSTM with Glove embedding"
      ]
    },
    {
      "cell_type": "code",
      "execution_count": null,
      "metadata": {
        "id": "BqoqqNBh0v0L",
        "colab": {
          "base_uri": "https://localhost:8080/"
        },
        "outputId": "5c429394-4e59-443c-d391-808c991bb7a3"
      },
      "outputs": [
        {
          "output_type": "stream",
          "name": "stdout",
          "text": [
            "Train Data size: 2204\n",
            "Test Data size 946\n"
          ]
        }
      ],
      "source": [
        "#Prepare data\n",
        "\n",
        "X = df.cleaned\n",
        "y = df.feedback\n",
        "\n",
        "size = 0.7 #70% train data size\n",
        "max_words = 50000\n",
        "max_seq = 30\n",
        "\n",
        "train_data, test_data = train_test_split(df, test_size=1-size,\n",
        "                                         random_state=1) # Splits Dataset\n",
        "\n",
        "print(\"Train Data size:\", len(train_data))\n",
        "print(\"Test Data size\", len(test_data))"
      ]
    },
    {
      "cell_type": "code",
      "execution_count": null,
      "metadata": {
        "id": "bUd9O5gl2eJt",
        "colab": {
          "base_uri": "https://localhost:8080/"
        },
        "outputId": "24d428a7-0d11-43eb-ec9e-9782940ef0fd"
      },
      "outputs": [
        {
          "output_type": "stream",
          "name": "stdout",
          "text": [
            "Vocabulary Size : 2754\n"
          ]
        }
      ],
      "source": [
        "#tokenize data\n",
        "from keras.preprocessing.text import Tokenizer\n",
        "\n",
        "tokenizer = Tokenizer()\n",
        "tokenizer.fit_on_texts(train_data.cleaned)\n",
        "\n",
        "word_index = tokenizer.word_index\n",
        "vocab_size = len(tokenizer.word_index) + 1\n",
        "print(\"Vocabulary Size :\", vocab_size)"
      ]
    },
    {
      "cell_type": "code",
      "execution_count": null,
      "metadata": {
        "id": "zuwJyp685xXQ",
        "colab": {
          "base_uri": "https://localhost:8080/"
        },
        "outputId": "2a69270a-db21-4354-f434-dd79478f6b89"
      },
      "outputs": [
        {
          "output_type": "stream",
          "name": "stdout",
          "text": [
            "Train X Shape: (2204, 30)\n",
            "Test X Shape: (946, 30)\n"
          ]
        }
      ],
      "source": [
        "#pad sequence\n",
        "from keras.preprocessing.sequence import pad_sequences\n",
        "\n",
        "x_train = pad_sequences(tokenizer.texts_to_sequences(train_data.cleaned),\n",
        "                        maxlen = max_seq)\n",
        "x_test = pad_sequences(tokenizer.texts_to_sequences(test_data.cleaned),\n",
        "                       maxlen = max_seq)\n",
        "\n",
        "print(\"Train X Shape:\",x_train.shape)\n",
        "print(\"Test X Shape:\",x_test.shape)"
      ]
    },
    {
      "cell_type": "code",
      "execution_count": null,
      "metadata": {
        "id": "uHqyrzF651b3"
      },
      "outputs": [],
      "source": [
        "labels = train_data.feedback.unique().tolist()"
      ]
    },
    {
      "cell_type": "code",
      "execution_count": null,
      "metadata": {
        "id": "T0cOUFzK57C5",
        "colab": {
          "base_uri": "https://localhost:8080/"
        },
        "outputId": "8d54d583-26ba-43e4-afc8-381ab1725581"
      },
      "outputs": [
        {
          "output_type": "stream",
          "name": "stdout",
          "text": [
            "y_train shape: (2204, 1)\n",
            "y_test shape: (946, 1)\n"
          ]
        }
      ],
      "source": [
        "#encode target & reshape train and test\n",
        "from sklearn.preprocessing import LabelEncoder\n",
        "\n",
        "encoder = LabelEncoder()\n",
        "encoder.fit(train_data.feedback.to_list())\n",
        "\n",
        "y_train = encoder.transform(train_data.feedback.to_list())\n",
        "y_test = encoder.transform(test_data.feedback.to_list())\n",
        "\n",
        "y_train = y_train.reshape(-1,1)\n",
        "y_test = y_test.reshape(-1,1)\n",
        "\n",
        "print(\"y_train shape:\", y_train.shape)\n",
        "print(\"y_test shape:\", y_test.shape)"
      ]
    },
    {
      "cell_type": "code",
      "execution_count": null,
      "metadata": {
        "id": "iOcTUgRF56_U"
      },
      "outputs": [],
      "source": [
        "#doenload and unzip Glove \n",
        "!wget http://nlp.stanford.edu/data/glove.6B.zip\n",
        "!unzip glove.6B.zip"
      ]
    },
    {
      "cell_type": "code",
      "execution_count": null,
      "metadata": {
        "id": "XfeKo6QM568f"
      },
      "outputs": [],
      "source": [
        "glove_emb = 'glove.6B.300d.txt'\n",
        "emb_dim = 300\n",
        "learning_rate = 1e-3\n",
        "batch_size = 64\n",
        "epochs = 20"
      ]
    },
    {
      "cell_type": "code",
      "execution_count": null,
      "metadata": {
        "id": "jAAaMUuk565m",
        "colab": {
          "base_uri": "https://localhost:8080/"
        },
        "outputId": "9c294914-b29b-4fc1-9433-6c9a43d8f024"
      },
      "outputs": [
        {
          "output_type": "stream",
          "name": "stdout",
          "text": [
            "Word vectors count 400000\n"
          ]
        }
      ],
      "source": [
        "emb_index = {}\n",
        "\n",
        "f = open(glove_emb)\n",
        "for line in f:\n",
        "  values = line.split()\n",
        "  word = value = values[0]\n",
        "  coefs = np.asarray(values[1:], dtype='float32')\n",
        "  emb_index[word] = coefs\n",
        "f.close()\n",
        "\n",
        "print('Word vectors count %s' %len(emb_index))"
      ]
    },
    {
      "cell_type": "code",
      "execution_count": null,
      "metadata": {
        "id": "mpvfvufy562a"
      },
      "outputs": [],
      "source": [
        "emb_matrix = np.zeros((vocab_size, emb_dim))\n",
        "for word, i in word_index.items():\n",
        "  emb_vector = emb_index.get(word)\n",
        "  if emb_vector is not None:\n",
        "    emb_matrix[i] = emb_vector"
      ]
    },
    {
      "cell_type": "code",
      "execution_count": null,
      "metadata": {
        "id": "GdJ7a1Qx560X"
      },
      "outputs": [],
      "source": [
        "#instantiate glove model\n",
        "\n",
        "import tensorflow\n",
        "from tensorflow.keras.layers import Conv1D, Bidirectional, LSTM, Dense, Input, Dropout\n",
        "from tensorflow.keras.layers import SpatialDropout1D\n",
        "from tensorflow.keras.callbacks import ModelCheckpoint\n",
        "\n",
        "emb_layer = tf.keras.layers.Embedding(vocab_size, emb_dim, weights=[emb_matrix], input_length=max_seq, trainable=False)\n",
        "\n",
        "input_seq = Input(shape=(max_seq,), dtype='int32')\n",
        "emb_seq = emb_layer(input_seq)\n",
        "j = SpatialDropout1D(0.2)(emb_seq)\n",
        "j = Conv1D(64, 5, activation='relu')(j)\n",
        "j = Bidirectional(LSTM(64, dropout=0.2, recurrent_dropout=0.2))(j)\n",
        "j = Dense(512, activation='relu')(j)\n",
        "j = Dropout(0.5)(j)\n",
        "j = Dense(512, activation='relu')(j)\n",
        "output = Dense(1, activation='sigmoid')(j)\n",
        "model_glove = tf.keras.Model(input_seq, output)\n",
        "\n",
        "from tensorflow.keras.optimizers import Adam\n",
        "from tensorflow.keras.callbacks import ReduceLROnPlateau\n",
        "\n",
        "model_glove.compile(optimizer=Adam(learning_rate=learning_rate), loss='binary_crossentropy', metrics=['accuracy'])\n",
        "callbacks = ReduceLROnPlateau(factor=0.1, min_lr = 0.01, monitor = 'val_loss', verbose = 1)"
      ]
    },
    {
      "cell_type": "code",
      "source": [
        "#fit model\n",
        "history = model_glove.fit(x_train, y_train, batch_size=batch_size, epochs=epochs, validation_data=(x_test, y_test), \n",
        "                    callbacks=[callbacks])"
      ],
      "metadata": {
        "id": "HkZ5gyXlJaMB",
        "colab": {
          "base_uri": "https://localhost:8080/"
        },
        "outputId": "a8fa20a7-8225-4156-eace-13c46466adeb"
      },
      "execution_count": null,
      "outputs": [
        {
          "output_type": "stream",
          "name": "stdout",
          "text": [
            "Epoch 1/20\n",
            "35/35 [==============================] - 8s 84ms/step - loss: 0.3285 - accuracy: 0.9129 - val_loss: 0.2331 - val_accuracy: 0.9228 - lr: 0.0010\n",
            "Epoch 2/20\n",
            "35/35 [==============================] - 2s 68ms/step - loss: 0.2175 - accuracy: 0.9165 - val_loss: 0.1977 - val_accuracy: 0.9228 - lr: 0.0010\n",
            "Epoch 3/20\n",
            "35/35 [==============================] - 2s 69ms/step - loss: 0.1720 - accuracy: 0.9265 - val_loss: 0.1814 - val_accuracy: 0.9239 - lr: 0.0010\n",
            "Epoch 4/20\n",
            "35/35 [==============================] - 2s 68ms/step - loss: 0.1225 - accuracy: 0.9519 - val_loss: 0.2080 - val_accuracy: 0.9397 - lr: 0.0010\n",
            "Epoch 5/20\n",
            "35/35 [==============================] - 2s 69ms/step - loss: 0.0762 - accuracy: 0.9701 - val_loss: 0.2342 - val_accuracy: 0.9281 - lr: 0.0010\n",
            "Epoch 6/20\n",
            "35/35 [==============================] - 2s 69ms/step - loss: 0.0594 - accuracy: 0.9800 - val_loss: 0.2656 - val_accuracy: 0.9387 - lr: 0.0010\n",
            "Epoch 7/20\n",
            "35/35 [==============================] - 2s 69ms/step - loss: 0.0642 - accuracy: 0.9760 - val_loss: 0.2342 - val_accuracy: 0.9239 - lr: 0.0010\n",
            "Epoch 8/20\n",
            "35/35 [==============================] - 2s 68ms/step - loss: 0.0456 - accuracy: 0.9819 - val_loss: 0.2441 - val_accuracy: 0.9376 - lr: 0.0010\n",
            "Epoch 9/20\n",
            "35/35 [==============================] - 2s 68ms/step - loss: 0.0366 - accuracy: 0.9864 - val_loss: 0.3085 - val_accuracy: 0.9366 - lr: 0.0010\n",
            "Epoch 10/20\n",
            "35/35 [==============================] - 2s 68ms/step - loss: 0.0378 - accuracy: 0.9855 - val_loss: 0.2780 - val_accuracy: 0.9397 - lr: 0.0010\n",
            "Epoch 11/20\n",
            "35/35 [==============================] - 2s 69ms/step - loss: 0.0374 - accuracy: 0.9864 - val_loss: 0.2914 - val_accuracy: 0.9429 - lr: 0.0010\n",
            "Epoch 12/20\n",
            "35/35 [==============================] - 2s 68ms/step - loss: 0.0329 - accuracy: 0.9864 - val_loss: 0.3230 - val_accuracy: 0.9376 - lr: 0.0010\n",
            "Epoch 13/20\n",
            "35/35 [==============================] - 2s 68ms/step - loss: 0.0370 - accuracy: 0.9859 - val_loss: 0.3042 - val_accuracy: 0.9366 - lr: 0.0010\n",
            "Epoch 14/20\n",
            "35/35 [==============================] - 2s 70ms/step - loss: 0.0402 - accuracy: 0.9837 - val_loss: 0.2772 - val_accuracy: 0.9408 - lr: 0.0010\n",
            "Epoch 15/20\n",
            "35/35 [==============================] - 2s 69ms/step - loss: 0.0354 - accuracy: 0.9859 - val_loss: 0.2948 - val_accuracy: 0.9419 - lr: 0.0010\n",
            "Epoch 16/20\n",
            "35/35 [==============================] - 2s 69ms/step - loss: 0.0328 - accuracy: 0.9877 - val_loss: 0.3745 - val_accuracy: 0.9419 - lr: 0.0010\n",
            "Epoch 17/20\n",
            "35/35 [==============================] - 2s 71ms/step - loss: 0.0259 - accuracy: 0.9891 - val_loss: 0.3664 - val_accuracy: 0.9366 - lr: 0.0010\n",
            "Epoch 18/20\n",
            "35/35 [==============================] - 2s 70ms/step - loss: 0.0303 - accuracy: 0.9864 - val_loss: 0.3912 - val_accuracy: 0.9397 - lr: 0.0010\n",
            "Epoch 19/20\n",
            "35/35 [==============================] - 2s 71ms/step - loss: 0.0400 - accuracy: 0.9841 - val_loss: 0.3156 - val_accuracy: 0.9366 - lr: 0.0010\n",
            "Epoch 20/20\n",
            "35/35 [==============================] - 2s 70ms/step - loss: 0.0280 - accuracy: 0.9882 - val_loss: 0.3693 - val_accuracy: 0.9345 - lr: 0.0010\n"
          ]
        }
      ]
    },
    {
      "cell_type": "code",
      "source": [
        "#visualize\n",
        "\n",
        "acc_glove = history.history['accuracy']\n",
        "val_acc_glove = history.history['val_accuracy']\n",
        "\n",
        "loss_glove = history.history['loss']\n",
        "val_loss_glove = history.history['val_loss']\n",
        "\n",
        "epochs_range = range(epochs)\n",
        "\n",
        "\n",
        "plt.figure(figsize = (12, 8))\n",
        "plt.plot(epochs_range, acc_glove, label = 'Training Accuracy')\n",
        "plt.plot(epochs_range, val_acc_glove, label = 'Validation Accuracy')\n",
        "\n",
        "plt.plot(epochs_range, loss_glove, label = 'Training Loss')\n",
        "plt.plot(epochs_range, val_loss_glove, label = 'Validation Loss')\n",
        "plt.legend(loc = 'best')\n",
        "plt.title('LSTM Training and Validation')\n",
        "plt.grid(False)\n",
        "\n",
        "plt.show()"
      ],
      "metadata": {
        "colab": {
          "base_uri": "https://localhost:8080/",
          "height": 499
        },
        "id": "3C0qQzSDXKPT",
        "outputId": "971b5b54-f84c-40c7-87e2-b6ba0bae9806"
      },
      "execution_count": null,
      "outputs": [
        {
          "output_type": "display_data",
          "data": {
            "text/plain": [
              "<Figure size 864x576 with 1 Axes>"
            ],
            "image/png": "[encoded data removed]"
          },
          "metadata": {
            "needs_background": "light"
          }
        }
      ]
    },
    {
      "cell_type": "code",
      "source": [
        "#set threshold for positive/negative sentiment\n",
        "def get_sentiment(score): \n",
        "    return \"Positive\" if score>0.5 else \"Negative\"\n",
        "\n",
        "\n",
        "scores = model_glove.predict(x_test, verbose=1, batch_size=10000)\n",
        "y_pred_1d = [get_sentiment(score) for score in scores]"
      ],
      "metadata": {
        "id": "cmM1zQ02JaEx",
        "colab": {
          "base_uri": "https://localhost:8080/"
        },
        "outputId": "9ecac1c6-4f72-479b-b98c-0bbde43621a8"
      },
      "execution_count": null,
      "outputs": [
        {
          "output_type": "stream",
          "name": "stdout",
          "text": [
            "1/1 [==============================] - 1s 556ms/step\n"
          ]
        }
      ]
    },
    {
      "cell_type": "code",
      "source": [
        "#plot confusion matrix\n",
        "cnf_matrix = confusion_matrix(test_data.feedback.to_list(), y_pred_1d)\n",
        "plt.figure(figsize=(8,8))\n",
        "plot_confusion_matrix(cnf_matrix, classes=test_data.feedback.unique(), title=\"Confusion matrix\")\n",
        "plt.show()"
      ],
      "metadata": {
        "id": "iMcbqhqeJZ97",
        "colab": {
          "base_uri": "https://localhost:8080/",
          "height": 469
        },
        "outputId": "a2cc4855-19f8-4d92-a008-ddc39961ae98"
      },
      "execution_count": null,
      "outputs": [
        {
          "output_type": "display_data",
          "data": {
            "text/plain": [
              "<Figure size 576x576 with 2 Axes>"
            ],
            "image/png": "[encoded data removed]"
          },
          "metadata": {
            "needs_background": "light"
          }
        }
      ]
    },
    {
      "cell_type": "code",
      "source": [
        "print(classification_report(list(test_data.feedback.to_list()), y_pred_1d))"
      ],
      "metadata": {
        "id": "7M1S8EnkJZ6k",
        "colab": {
          "base_uri": "https://localhost:8080/"
        },
        "outputId": "c1d39d7c-f2de-44ea-a5f0-aa0ef63e2b4f"
      },
      "execution_count": null,
      "outputs": [
        {
          "output_type": "stream",
          "name": "stdout",
          "text": [
            "              precision    recall  f1-score   support\n",
            "\n",
            "    Negative       0.63      0.37      0.47        73\n",
            "    Positive       0.95      0.98      0.97       873\n",
            "\n",
            "    accuracy                           0.93       946\n",
            "   macro avg       0.79      0.68      0.72       946\n",
            "weighted avg       0.92      0.93      0.93       946\n",
            "\n"
          ]
        }
      ]
    },
    {
      "cell_type": "markdown",
      "source": [
        "**Glove model**\n",
        "\n",
        "From the confusion matrix, the model is leaning towards the positive feedback since the data is imbalanced. This can be deduced from the lower scores recorded by Precision, Recall and F1-score when compared to the positive class.\n",
        "\n",
        "The confusion matric on the other hand is able to correctly classify TN than TP.\n",
        "\n",
        "A repeat of the experiment would be conducted with data augmentation for the classes to investigate the performance in classifying the classes."
      ],
      "metadata": {
        "id": "eakVB75Gidqs"
      }
    },
    {
      "cell_type": "markdown",
      "source": [
        "**Baseline Vs. Glove Model Performance**\n",
        "\n",
        "#### Compare the performance of the simple LSTM baseline with that of the Glove model stating the difference in the model setup vis-a-vis hyperparameters used, number of layers, F1, Precision and Recall Scores and the confusion matrix."
      ],
      "metadata": {
        "id": "QwOgABfWJEl0"
      }
    },
    {
      "cell_type": "markdown",
      "metadata": {
        "id": "jBA8cHkkRSpo"
      },
      "source": [
        "**Model Building**\n",
        "\n",
        "With Data Augmentation"
      ]
    },
    {
      "cell_type": "code",
      "source": [
        "df.cleaned.iloc[5]"
      ],
      "metadata": {
        "colab": {
          "base_uri": "https://localhost:8080/",
          "height": 36
        },
        "id": "tUgnVa0lMHLE",
        "outputId": "e0072148-f4e4-4234-e243-d88b0a20d480"
      },
      "execution_count": null,
      "outputs": [
        {
          "output_type": "execute_result",
          "data": {
            "text/plain": [
              "'receive echo gift need another bluetooth something play music easily accessible find smart speaker cant wait see else'"
            ],
            "application/vnd.google.colaboratory.intrinsic+json": {
              "type": "string"
            }
          },
          "metadata": {},
          "execution_count": 37
        }
      ]
    },
    {
      "cell_type": "code",
      "source": [
        "#install required libraries\n",
        "! pip install transformers\n",
        "! pip install nlpaug"
      ],
      "metadata": {
        "id": "mlieX9rXEx2j"
      },
      "execution_count": null,
      "outputs": []
    },
    {
      "cell_type": "code",
      "source": [
        "import nlpaug.augmenter.word.context_word_embs as aug"
      ],
      "metadata": {
        "id": "F1bmWVfoExfx"
      },
      "execution_count": null,
      "outputs": []
    },
    {
      "cell_type": "code",
      "source": [
        "#check augmenter\n",
        "check_sample = df.cleaned.iloc[5]\n",
        "check_sample"
      ],
      "metadata": {
        "colab": {
          "base_uri": "https://localhost:8080/",
          "height": 36
        },
        "id": "Xy0BIkgkKeYi",
        "outputId": "4d16924c-464c-489f-f70f-19a557048163"
      },
      "execution_count": null,
      "outputs": [
        {
          "output_type": "execute_result",
          "data": {
            "text/plain": [
              "'receive echo gift need another bluetooth something play music easily accessible find smart speaker cant wait see else'"
            ],
            "application/vnd.google.colaboratory.intrinsic+json": {
              "type": "string"
            }
          },
          "metadata": {},
          "execution_count": 40
        }
      ]
    },
    {
      "cell_type": "code",
      "source": [
        "augmenter = aug.ContextualWordEmbsAug(model_path='bert-base-uncased', action='insert') #instantiate augmenter"
      ],
      "metadata": {
        "colab": {
          "base_uri": "https://localhost:8080/",
          "height": 177,
          "referenced_widgets": [
            "aae42161cdb3466ab1664869ac69c2b7",
            "3e805462b8cc4f178e87803d292bdceb",
            "f02fde54b1b344d29a355ac197737baa",
            "9eeed1ea7c064962947e17a995aa9d56",
            "2a2fe608e4dd48d5b270a7d85854019c",
            "2b19bb6b912941579bdcbf0f637a49f2",
            "d58f09a27e0749178828c997e2b3d9a9",
            "de7ee373af5e4560afa1ce7b14f0dfbd",
            "b1c359ad58d3497d998332b28b47739a",
            "0f11a160528044e48d8e92f55bdd8f5a",
            "9b9cf7c095a3474f95ed3513573dd4dd",
            "ccad37e9ed824a8f80f83880968cb303",
            "cb19e3a0784f46fba94d9cda65bcd151",
            "28a038a75c3242719e19d0a9334f3396",
            "55cd9565838f4c1593957e4b2decddf7",
            "fd42f4b1abaf492ebdb1c452ac7d57a6",
            "7fd537125cff46d29e5ebbfd476d4869",
            "6e4e45923e3749d0b1aa120ae94ec0cb",
            "778a46ad324e4dafbef9df12c8b45f43",
            "c3cdd096139a4c16be91ce1dfa075830",
            "f6a207bea0ff43fe8da99a1487b396ee",
            "2c9012ef5b254f9b8f1875a2c9344c1c",
            "a60445dbf8bb4eb485f6506fa720f0c6",
            "31a63b454096421da3fb7bfbd3af3cbe",
            "653a8a8826c844299fa80de2a5231f0a",
            "be8765c1e33c4f948c84db98f8f738b3",
            "2e3f87c4df1b450b91595b79f3aabaad",
            "d655d694f0354171a751b0aaaecabe16",
            "d898fd411ae14f79b919ebdfe2ec7c65",
            "66559556fe594d22a732f214c0b39cb0",
            "0389854a5f704c099e226bd70d068293",
            "b2f711569a7947fcb2f2da2ab0dd89ad",
            "0d50fc1ad3fd4c7cb36669c7e62c0321",
            "c41a47a0335e4173824eb0bd4dda62c1",
            "7b84de77b7e841c5aa36b077d41e3bdb",
            "217625f9b1c24be8b6ad0ae4f3f99c20",
            "12861cfc2dde4892a909b11e433197aa",
            "c1abd12e9b9a49afa3312e15b510243a",
            "93e3423acc7640cd901ef496d6980bce",
            "1cf2f6e0d5444deaa337468139ee22a7",
            "a859ea8693164dde8a28e4afbc37acd1",
            "2a3327ca200542adb52d6f2a87889610",
            "c37e0366900a4cf0a3943fe1539e0f88",
            "e7e8483a5ad545e889900da631fa4416",
            "c98dafcdba3146d792ba452d47d903c8",
            "8aee2fc6dc164dce97e6767634b1a06f",
            "b365b29f21564867995b2f46f4bb8047",
            "c957e151cab54f29b3d94fa8ae2da1a1",
            "04c892d601d34c239465e47b4163a9ab",
            "cb2ba55be7dd421881c507408d195602",
            "85ce52efe00648f0bc70741a81139033",
            "0102a87a77ed49bdbcd957ca57bce49e",
            "137294fa3993482c99ba8dccd23c2b8f",
            "1497c0719d5e4dbcb2a37211763258ec",
            "ff0cee1c5afe4c5ba8e069e837e9733e"
          ]
        },
        "id": "Tx-R30PKLRjY",
        "outputId": "7ecba66d-92ae-4ced-aebf-761342b72c11"
      },
      "execution_count": null,
      "outputs": [
        {
          "output_type": "display_data",
          "data": {
            "text/plain": [
              "Downloading tokenizer_config.json:   0%|          | 0.00/28.0 [00:00<?, ?B/s]"
            ],
            "application/vnd.jupyter.widget-view+json": {
              "version_major": 2,
              "version_minor": 0,
              "model_id": "aae42161cdb3466ab1664869ac69c2b7"
            }
          },
          "metadata": {}
        },
        {
          "output_type": "display_data",
          "data": {
            "text/plain": [
              "Downloading config.json:   0%|          | 0.00/570 [00:00<?, ?B/s]"
            ],
            "application/vnd.jupyter.widget-view+json": {
              "version_major": 2,
              "version_minor": 0,
              "model_id": "ccad37e9ed824a8f80f83880968cb303"
            }
          },
          "metadata": {}
        },
        {
          "output_type": "display_data",
          "data": {
            "text/plain": [
              "Downloading vocab.txt:   0%|          | 0.00/226k [00:00<?, ?B/s]"
            ],
            "application/vnd.jupyter.widget-view+json": {
              "version_major": 2,
              "version_minor": 0,
              "model_id": "a60445dbf8bb4eb485f6506fa720f0c6"
            }
          },
          "metadata": {}
        },
        {
          "output_type": "display_data",
          "data": {
            "text/plain": [
              "Downloading tokenizer.json:   0%|          | 0.00/455k [00:00<?, ?B/s]"
            ],
            "application/vnd.jupyter.widget-view+json": {
              "version_major": 2,
              "version_minor": 0,
              "model_id": "c41a47a0335e4173824eb0bd4dda62c1"
            }
          },
          "metadata": {}
        },
        {
          "output_type": "display_data",
          "data": {
            "text/plain": [
              "Downloading pytorch_model.bin:   0%|          | 0.00/420M [00:00<?, ?B/s]"
            ],
            "application/vnd.jupyter.widget-view+json": {
              "version_major": 2,
              "version_minor": 0,
              "model_id": "c98dafcdba3146d792ba452d47d903c8"
            }
          },
          "metadata": {}
        }
      ]
    },
    {
      "cell_type": "code",
      "source": [
        "augmented_text_sample = augmenter.augment(check_sample)\n",
        "augmented_text_sample #check augmenter on sample text"
      ],
      "metadata": {
        "colab": {
          "base_uri": "https://localhost:8080/"
        },
        "id": "u_nHiumgLRct",
        "outputId": "c9661ef3-43ea-4ee1-b177-b6de184edc70"
      },
      "execution_count": null,
      "outputs": [
        {
          "output_type": "execute_result",
          "data": {
            "text/plain": [
              "['to receive echo gift if need another call bluetooth or something play music easily accessible and find smart speaker system cant wait see else']"
            ]
          },
          "metadata": {},
          "execution_count": 42
        }
      ]
    },
    {
      "cell_type": "code",
      "source": [
        "#check 6 different output for sample augmented text\n",
        "for i in range(6):\n",
        "  print(augmenter.augment(check_sample))"
      ],
      "metadata": {
        "colab": {
          "base_uri": "https://localhost:8080/"
        },
        "id": "xPjt_2HaLRZD",
        "outputId": "6385e7c6-92b9-4710-f064-6f3b030103d7"
      },
      "execution_count": null,
      "outputs": [
        {
          "output_type": "stream",
          "name": "stdout",
          "text": [
            "['receive echo gift need be another bluetooth something play any music are easily accessible find you smart speaker cant keep wait just see else']\n",
            "['receive one echo phone gift need another call bluetooth something play music user easily accessible find smart speaker cant open wait see where else']\n",
            "['a receive echo gift need another bluetooth something play music again easily help accessible find smart speaker i cant miss wait see what else']\n",
            "['receive echo gift need another bluetooth download something play all music is easily accessible online find smart music speaker box cant wait see else']\n",
            "['receive echo gift we need another bluetooth something play our music easily accessible find smart portable speaker but cant miss wait see anyone else']\n",
            "['we receive echo free gift no need another voice bluetooth something play music please easily make accessible find smart speaker cant wait see else']\n"
          ]
        }
      ]
    },
    {
      "cell_type": "code",
      "source": [
        "df.feedback.value_counts() #check target to augment before mapping"
      ],
      "metadata": {
        "colab": {
          "base_uri": "https://localhost:8080/"
        },
        "id": "yGjR1MISM2vt",
        "outputId": "9ffd3ae6-397d-46c3-e497-0dcdfb61cbe4"
      },
      "execution_count": null,
      "outputs": [
        {
          "output_type": "execute_result",
          "data": {
            "text/plain": [
              "Positive    2893\n",
              "Negative     257\n",
              "Name: feedback, dtype: int64"
            ]
          },
          "metadata": {},
          "execution_count": 44
        }
      ]
    },
    {
      "cell_type": "code",
      "source": [
        "#convert target to int \n",
        "\n",
        "target_map = {'Positive': 0,\n",
        "              'Negative': 1}\n",
        "\n",
        "df['feedback'] = df['feedback'].map(target_map)"
      ],
      "metadata": {
        "id": "ibEGxzeASXO0"
      },
      "execution_count": null,
      "outputs": []
    },
    {
      "cell_type": "code",
      "source": [
        "df.feedback.value_counts() #check target to augment after mapping"
      ],
      "metadata": {
        "colab": {
          "base_uri": "https://localhost:8080/"
        },
        "id": "v6X-ApbVW3t5",
        "outputId": "f2986a81-f22c-456e-9160-c150ecfa2438"
      },
      "execution_count": null,
      "outputs": [
        {
          "output_type": "execute_result",
          "data": {
            "text/plain": [
              "0    2893\n",
              "1     257\n",
              "Name: feedback, dtype: int64"
            ]
          },
          "metadata": {},
          "execution_count": 46
        }
      ]
    },
    {
      "cell_type": "code",
      "source": [
        "#function to augment df\n",
        "def augment_df(df, augmenter, repetitions=1, samples=2636): #match minority class to majority class\n",
        "  augmented_texts = [] #store texts\n",
        "  #select minority class\n",
        "  neg_class = df[df['feedback'] == 1].reset_index(drop=True) #exclude index column\n",
        "  for i in tqdm(np.random.randint(0, len(neg_class), samples)):\n",
        "    #generate augmented text samples\n",
        "    for _ in range(repetitions):\n",
        "      augmented_text = augmenter.augment(neg_class['cleaned'].iloc[i])\n",
        "      augmented_texts.append(augmented_text)\n",
        "\n",
        "  data = {'feedback': 1,\n",
        "          'cleaned': augmented_texts}\n",
        "  df_aug = pd.DataFrame(data)  \n",
        "  df = shuffle(df.append(df_aug).reset_index(drop=True)) #shuffle and append df_aug\n",
        "  return df"
      ],
      "metadata": {
        "id": "4P595XE5M2sQ"
      },
      "execution_count": null,
      "outputs": []
    },
    {
      "cell_type": "code",
      "source": [
        "df_aug = augment_df(df, augmenter, samples=2636) #experiment with matched target class size"
      ],
      "metadata": {
        "colab": {
          "base_uri": "https://localhost:8080/",
          "height": 49,
          "referenced_widgets": [
            "fffb8da4b8864b5684d98b02076e5809",
            "f14387afdd90416ab94b351653d3f639",
            "da8c9bf804824a1290800a82a8431c88",
            "b3da42bfa3204f898ed01f6050d2b696",
            "57d6c4ed0d2d4d8e95d959b4eb5dab4c",
            "5baef703b18c415495c2ee75bb7d4e46",
            "c354b5c9ac21476c87469b2cb65e42ce",
            "f18afde4f2a545fd84b9b498510b0baa",
            "2a51f53a9c8d4f89bf272326236e76e3",
            "a58c4596ae1b4606a5df232db79f8913",
            "c2ea88b08707447ca103e4b30881076b"
          ]
        },
        "id": "aXtb956bM2pu",
        "outputId": "d04be4c6-5fdd-4536-97bb-0663fbd124f5"
      },
      "execution_count": null,
      "outputs": [
        {
          "output_type": "display_data",
          "data": {
            "text/plain": [
              "  0%|          | 0/2636 [00:00<?, ?it/s]"
            ],
            "application/vnd.jupyter.widget-view+json": {
              "version_major": 2,
              "version_minor": 0,
              "model_id": "fffb8da4b8864b5684d98b02076e5809"
            }
          },
          "metadata": {}
        }
      ]
    },
    {
      "cell_type": "code",
      "source": [
        "df_aug.feedback.value_counts() #check aug\n",
        "\n",
        "print('\\n Original Data Shape: ', df.shape)\n",
        "print('\\n Augmented Data Shape: ', df_aug.shape)"
      ],
      "metadata": {
        "colab": {
          "base_uri": "https://localhost:8080/"
        },
        "id": "3A0zvqoiM2mi",
        "outputId": "a325ea14-5581-4bf4-a143-66e38e9f068e"
      },
      "execution_count": null,
      "outputs": [
        {
          "output_type": "stream",
          "name": "stdout",
          "text": [
            "\n",
            " Original Data Shape:  (3150, 6)\n",
            "\n",
            " Augmented Data Shape:  (5786, 6)\n"
          ]
        }
      ]
    },
    {
      "cell_type": "code",
      "execution_count": null,
      "metadata": {
        "id": "CPKWY__lRU3D"
      },
      "outputs": [],
      "source": [
        "#tokenize X_train and convert to array\n",
        "\n",
        "max_words = 50000 #max number of words to be used (most frequent)\n",
        "max_seq = 250 #max word count per review\n",
        "embedding_dim = 100\n",
        "\n",
        "\n",
        "tokenizer= Tokenizer(num_words=max_words, filters='!\"#$%&()*+,-./:;<=>?@[\\]^_`{|}~', lower =False)\n",
        "tokenizer.fit_on_texts(df_aug['cleaned'].values)\n",
        "\n",
        "vocab_length = len(tokenizer.word_index) + 1\n",
        "\n",
        "word_index = tokenizer.word_index\n",
        "\n",
        "\n",
        "\n",
        "X = tokenizer.texts_to_sequences(df_aug['cleaned'].values)\n",
        "X = pad_sequences(X, maxlen = max_seq)\n",
        "\n",
        "y = pd.get_dummies(df_aug['feedback']).values #encode target"
      ]
    },
    {
      "cell_type": "code",
      "source": [
        "#split data to prevent data leak of augmented samples in test set\n",
        "X_train, _, y_train, _ = train_test_split(X, y, test_size = 0.1)\n",
        "_, X_test, _, y_test = train_test_split(df['cleaned'], df['feedback'].values, test_size = 0.5)\n",
        "\n",
        "x_train = np.asarray(x_train).astype(np.float32)\n",
        "y_train = np.asarray(y_train).astype(np.float32)\n",
        "\n",
        "\"\"\"\n",
        "Note: train on augmented dataset and test on original dataset for baseline and glove.\n",
        "\"\"\""
      ],
      "metadata": {
        "id": "kzsjCShTXuxC"
      },
      "execution_count": null,
      "outputs": []
    },
    {
      "cell_type": "markdown",
      "metadata": {
        "id": "ZbwDtp2wRXUY"
      },
      "source": [
        "**Baseline Model (Augmented)**"
      ]
    },
    {
      "cell_type": "code",
      "source": [
        "#instantiate model\n",
        "\n",
        "model_aug = Sequential()\n",
        "model_aug.add(Embedding(max_words, embedding_dim, input_length=max_seq))\n",
        "model_aug.add(SpatialDropout1D(0.2))\n",
        "model_aug.add(LSTM(100, dropout=0.2, recurrent_dropout=0.2)) #100 LSTM units\n",
        "model_aug.add(Dense(2, activation='softmax'))\n",
        "model_aug.add(Flatten())\n",
        "model_aug.compile(loss='binary_crossentropy', optimizer='adam', metrics=['accuracy'])\n",
        "  \n",
        "model_aug.summary()"
      ],
      "metadata": {
        "colab": {
          "base_uri": "https://localhost:8080/"
        },
        "id": "bbaLA2XBwcZ6",
        "outputId": "4710c77c-641c-491c-e833-1b7fa53ae8d5"
      },
      "execution_count": null,
      "outputs": [
        {
          "output_type": "stream",
          "name": "stdout",
          "text": [
            "Model: \"sequential_5\"\n",
            "_________________________________________________________________\n",
            " Layer (type)                Output Shape              Param #   \n",
            "=================================================================\n",
            " embedding_6 (Embedding)     (None, 250, 100)          5000000   \n",
            "                                                                 \n",
            " spatial_dropout1d_6 (Spatia  (None, 250, 100)         0         \n",
            " lDropout1D)                                                     \n",
            "                                                                 \n",
            " lstm_6 (LSTM)               (None, 100)               80400     \n",
            "                                                                 \n",
            " dense_8 (Dense)             (None, 2)                 202       \n",
            "                                                                 \n",
            " flatten (Flatten)           (None, 2)                 0         \n",
            "                                                                 \n",
            "=================================================================\n",
            "Total params: 5,080,602\n",
            "Trainable params: 5,080,602\n",
            "Non-trainable params: 0\n",
            "_________________________________________________________________\n"
          ]
        }
      ]
    },
    {
      "cell_type": "code",
      "source": [
        "#fit LSTM model (baseline)\n",
        "earlystop = EarlyStopping(monitor='val_loss', min_delta=0, patience=3, verbose=0, mode='auto')\n",
        "\n",
        "history_base_aug= model_aug.fit(X_train, y_train, epochs=100, batch_size=64, validation_split=0.1, \n",
        "                   callbacks=[earlystop])"
      ],
      "metadata": {
        "colab": {
          "base_uri": "https://localhost:8080/"
        },
        "id": "LPbvxyBfxoAJ",
        "outputId": "7b4e5f47-ba5d-480f-f445-bdb724b63bfe"
      },
      "execution_count": null,
      "outputs": [
        {
          "output_type": "stream",
          "name": "stdout",
          "text": [
            "Epoch 1/100\n",
            "74/74 [==============================] - 32s 391ms/step - loss: 0.4336 - accuracy: 0.8111 - val_loss: 0.2812 - val_accuracy: 0.9309\n",
            "Epoch 2/100\n",
            "74/74 [==============================] - 29s 390ms/step - loss: 0.2201 - accuracy: 0.9306 - val_loss: 0.2244 - val_accuracy: 0.9309\n",
            "Epoch 3/100\n",
            "74/74 [==============================] - 29s 387ms/step - loss: 0.1503 - accuracy: 0.9524 - val_loss: 0.2016 - val_accuracy: 0.9463\n",
            "Epoch 4/100\n",
            "74/74 [==============================] - 29s 386ms/step - loss: 0.1047 - accuracy: 0.9688 - val_loss: 0.1965 - val_accuracy: 0.9559\n",
            "Epoch 5/100\n",
            "74/74 [==============================] - 29s 386ms/step - loss: 0.0740 - accuracy: 0.9774 - val_loss: 0.2293 - val_accuracy: 0.9520\n",
            "Epoch 6/100\n",
            "74/74 [==============================] - 29s 388ms/step - loss: 0.0537 - accuracy: 0.9825 - val_loss: 0.2177 - val_accuracy: 0.9520\n",
            "Epoch 7/100\n",
            "74/74 [==============================] - 29s 386ms/step - loss: 0.0456 - accuracy: 0.9846 - val_loss: 0.2260 - val_accuracy: 0.9482\n"
          ]
        }
      ]
    },
    {
      "cell_type": "code",
      "source": [
        "# generate plot\n",
        "plot(history_base_aug, [['loss', 'val_loss'],['accuracy', 'val_accuracy']])"
      ],
      "metadata": {
        "colab": {
          "base_uri": "https://localhost:8080/",
          "height": 303
        },
        "id": "5P_pZlV_P4JO",
        "outputId": "3531eb6f-f01b-4e75-9d67-b47879d437fc"
      },
      "execution_count": null,
      "outputs": [
        {
          "output_type": "display_data",
          "data": {
            "text/plain": [
              "<Figure size 1440x360 with 2 Axes>"
            ],
            "image/png": "[encoded data removed]"
          },
          "metadata": {
            "needs_background": "light"
          }
        }
      ]
    },
    {
      "cell_type": "code",
      "source": [
        "#evaluate model\n",
        "\n",
        "result = model_aug.evaluate(X_test, y_test)\n",
        "print('Baseline model accuracy (Augmented): %.2f%%' % (result[1] * 100))"
      ],
      "metadata": {
        "id": "S0YguQhcu1e0"
      },
      "execution_count": null,
      "outputs": []
    },
    {
      "cell_type": "code",
      "source": [
        "#generate metrics\n",
        "\n",
        "\n",
        "pred_aug = model_aug.predict(X_test) \n",
        "metrics(pred_aug, y_test) "
      ],
      "metadata": {
        "id": "YMhtyW0t_0xf"
      },
      "execution_count": null,
      "outputs": []
    },
    {
      "cell_type": "markdown",
      "source": [
        "**LSTM with Glove (Augmented)**"
      ],
      "metadata": {
        "id": "OFWE6pGXAIKJ"
      }
    },
    {
      "cell_type": "code",
      "source": [
        "#Prepare data\n",
        "\n",
        "X = df_aug.cleaned\n",
        "y = df_aug.feedback\n",
        "\n",
        "size = 0.7 #70% train data size\n",
        "max_words = 50000\n",
        "max_seq = 30\n",
        "\n",
        "train_data_aug, test_data_aug = train_test_split(df_aug, test_size=1-size,\n",
        "                                         random_state=1) # Splits Dataset\n",
        "\n",
        "print(\"Train Data size:\", len(train_data_aug))\n",
        "print(\"Test Data size\", len(test_data_aug))\n"
      ],
      "metadata": {
        "colab": {
          "base_uri": "https://localhost:8080/"
        },
        "id": "oHzr2z7lEHYI",
        "outputId": "8a5beb9f-fb4f-448e-cb0d-9c4af14eff7b"
      },
      "execution_count": null,
      "outputs": [
        {
          "output_type": "stream",
          "name": "stdout",
          "text": [
            "Train Data size: 4050\n",
            "Test Data size 1736\n"
          ]
        }
      ]
    },
    {
      "cell_type": "code",
      "source": [
        "\n",
        "#tokenize data\n",
        "from keras.preprocessing.text import Tokenizer\n",
        "\n",
        "tokenizer = Tokenizer()\n",
        "tokenizer.fit_on_texts(train_data_aug.cleaned)\n",
        "\n",
        "word_index = tokenizer.word_index\n",
        "vocab_size = len(tokenizer.word_index) + 1\n",
        "print(\"Vocabulary Size :\", vocab_size)"
      ],
      "metadata": {
        "colab": {
          "base_uri": "https://localhost:8080/"
        },
        "id": "R1KAyu25EHQH",
        "outputId": "d3467645-56ad-4567-ff63-132a0d9710d6"
      },
      "execution_count": null,
      "outputs": [
        {
          "output_type": "stream",
          "name": "stdout",
          "text": [
            "Vocabulary Size : 4484\n"
          ]
        }
      ]
    },
    {
      "cell_type": "code",
      "source": [
        "#pad sequence\n",
        "from keras.preprocessing.sequence import pad_sequences\n",
        "\n",
        "x_train = pad_sequences(tokenizer.texts_to_sequences(train_data_aug.cleaned),\n",
        "                        maxlen = max_seq)\n",
        "x_test = pad_sequences(tokenizer.texts_to_sequences(test_data_aug.cleaned),\n",
        "                       maxlen = max_seq)\n",
        "\n",
        "print(\"Train X Shape:\",x_train.shape)\n",
        "print(\"Test X Shape:\",x_test.shape)"
      ],
      "metadata": {
        "colab": {
          "base_uri": "https://localhost:8080/"
        },
        "id": "3z1b9FetEHMq",
        "outputId": "0e39a24b-32c9-46d4-d647-6db5fa6a6cee"
      },
      "execution_count": null,
      "outputs": [
        {
          "output_type": "stream",
          "name": "stdout",
          "text": [
            "Train X Shape: (4050, 30)\n",
            "Test X Shape: (1736, 30)\n"
          ]
        }
      ]
    },
    {
      "cell_type": "code",
      "source": [
        "labels = train_data_aug.feedback.unique().tolist()"
      ],
      "metadata": {
        "id": "eWFaMTzcEGzH"
      },
      "execution_count": null,
      "outputs": []
    },
    {
      "cell_type": "code",
      "source": [
        "#encode target & reshape train and test\n",
        "from sklearn.preprocessing import LabelEncoder\n",
        "\n",
        "encoder = LabelEncoder()\n",
        "encoder.fit(train_data_aug.feedback.to_list())\n",
        "\n",
        "y_train = encoder.transform(train_data_aug.feedback.to_list())\n",
        "y_test = encoder.transform(test_data_aug.feedback.to_list())\n",
        "\n",
        "#reshape\n",
        "y_train = y_train.reshape(-1,1)\n",
        "y_test = y_test.reshape(-1,1)\n",
        "\n",
        "print(\"y_train shape:\", y_train.shape)\n",
        "print(\"y_test shape:\", y_test.shape)"
      ],
      "metadata": {
        "colab": {
          "base_uri": "https://localhost:8080/"
        },
        "id": "d-smYur6IJWF",
        "outputId": "095346f7-7818-42e6-ee2f-89f0273c086b"
      },
      "execution_count": null,
      "outputs": [
        {
          "output_type": "stream",
          "name": "stdout",
          "text": [
            "y_train shape: (4050, 1)\n",
            "y_test shape: (1736, 1)\n"
          ]
        }
      ]
    },
    {
      "cell_type": "code",
      "source": [
        "glove_emb = 'glove.6B.300d.txt'\n",
        "emb_dim = 300\n",
        "learning_rate = 1e-3\n",
        "batch_size = 64\n",
        "epochs = 20"
      ],
      "metadata": {
        "id": "qUmKixApIJJV"
      },
      "execution_count": null,
      "outputs": []
    },
    {
      "cell_type": "code",
      "source": [
        "emb_index = {}\n",
        "\n",
        "f = open(glove_emb)\n",
        "for line in f:\n",
        "  values = line.split()\n",
        "  word = value = values[0]\n",
        "  coefs = np.asarray(values[1:], dtype='float32')\n",
        "  emb_index[word] = coefs\n",
        "f.close()\n",
        "\n",
        "print('Word vectors count %s' %len(emb_index))"
      ],
      "metadata": {
        "colab": {
          "base_uri": "https://localhost:8080/"
        },
        "id": "c3idA4COIIdr",
        "outputId": "216ef78d-4654-42e2-8bba-e83748fe7a50"
      },
      "execution_count": null,
      "outputs": [
        {
          "output_type": "stream",
          "name": "stdout",
          "text": [
            "Word vectors count 400000\n"
          ]
        }
      ]
    },
    {
      "cell_type": "code",
      "source": [
        "emb_matrix = np.zeros((vocab_size, emb_dim))\n",
        "for word, i in word_index.items():\n",
        "  emb_vector = emb_index.get(word)\n",
        "  if emb_vector is not None:\n",
        "    emb_matrix[i] = emb_vector"
      ],
      "metadata": {
        "id": "_bZtDw2WIeYo"
      },
      "execution_count": null,
      "outputs": []
    },
    {
      "cell_type": "code",
      "source": [
        "#instantiate glove model\n",
        "\n",
        "import tensorflow as tf\n",
        "from tensorflow.keras.layers import Conv1D, Bidirectional, LSTM, Dense, Input, Dropout\n",
        "from tensorflow.keras.layers import SpatialDropout1D\n",
        "from tensorflow.keras.callbacks import ModelCheckpoint\n",
        "\n",
        "emb_layer = tf.keras.layers.Embedding(vocab_size, emb_dim, weights=[emb_matrix], input_length=max_seq, trainable=False)\n",
        "\n",
        "input_seq = Input(shape=(max_seq,), dtype='int32')\n",
        "emb_seq = emb_layer(input_seq)\n",
        "layer = SpatialDropout1D(0.2)(emb_seq)\n",
        "layer = Conv1D(64, 5, activation='relu')(layer)\n",
        "layer = Bidirectional(LSTM(64, dropout=0.2, recurrent_dropout=0.2))(layer)\n",
        "layer = Dense(512, activation='relu')(layer)\n",
        "layer = Dropout(0.5)(layer)\n",
        "layer = Dense(512, activation='relu')(layer)\n",
        "output = Dense(1, activation='sigmoid')(layer)\n",
        "model_glove_aug = tf.keras.Model(input_seq, output)\n",
        "\n",
        "from tensorflow.keras.optimizers import Adam\n",
        "from tensorflow.keras.callbacks import ReduceLROnPlateau\n",
        "\n",
        "model_glove_aug.compile(optimizer=Adam(learning_rate=learning_rate), loss='binary_crossentropy', metrics=['accuracy'])\n",
        "callbacks = ReduceLROnPlateau(factor=0.1, min_lr = 0.01, monitor = 'val_loss', verbose = 1)"
      ],
      "metadata": {
        "id": "UhJsBV7XAOMt"
      },
      "execution_count": null,
      "outputs": []
    },
    {
      "cell_type": "code",
      "source": [
        "#fit model\n",
        "history_glv_aug = model_glove_aug.fit(x_train, y_train, batch_size=batch_size, epochs=epochs, validation_data=(x_test, y_test), \n",
        "                    callbacks=[callbacks])"
      ],
      "metadata": {
        "colab": {
          "base_uri": "https://localhost:8080/"
        },
        "id": "zVquao4KBQE_",
        "outputId": "47c68019-8808-40b3-e983-543a6036753d"
      },
      "execution_count": null,
      "outputs": [
        {
          "output_type": "stream",
          "name": "stdout",
          "text": [
            "Epoch 1/20\n",
            "64/64 [==============================] - 11s 84ms/step - loss: 0.4360 - accuracy: 0.8881 - val_loss: 0.2244 - val_accuracy: 0.9303 - lr: 0.0010\n",
            "Epoch 2/20\n",
            "64/64 [==============================] - 5s 76ms/step - loss: 0.1679 - accuracy: 0.9469 - val_loss: 0.1629 - val_accuracy: 0.9510 - lr: 0.0010\n",
            "Epoch 3/20\n",
            "64/64 [==============================] - 5s 75ms/step - loss: 0.1297 - accuracy: 0.9620 - val_loss: 0.1599 - val_accuracy: 0.9510 - lr: 0.0010\n",
            "Epoch 4/20\n",
            "64/64 [==============================] - 5s 77ms/step - loss: 0.1035 - accuracy: 0.9714 - val_loss: 0.1775 - val_accuracy: 0.9539 - lr: 0.0010\n",
            "Epoch 5/20\n",
            "64/64 [==============================] - 5s 75ms/step - loss: 0.0833 - accuracy: 0.9802 - val_loss: 0.2096 - val_accuracy: 0.9510 - lr: 0.0010\n",
            "Epoch 6/20\n",
            "64/64 [==============================] - 5s 76ms/step - loss: 0.0843 - accuracy: 0.9775 - val_loss: 0.1975 - val_accuracy: 0.9528 - lr: 0.0010\n",
            "Epoch 7/20\n",
            "64/64 [==============================] - 5s 76ms/step - loss: 0.0744 - accuracy: 0.9812 - val_loss: 0.1878 - val_accuracy: 0.9551 - lr: 0.0010\n",
            "Epoch 8/20\n",
            "64/64 [==============================] - 5s 85ms/step - loss: 0.0712 - accuracy: 0.9837 - val_loss: 0.1920 - val_accuracy: 0.9522 - lr: 0.0010\n",
            "Epoch 9/20\n",
            "64/64 [==============================] - 5s 82ms/step - loss: 0.0672 - accuracy: 0.9832 - val_loss: 0.2050 - val_accuracy: 0.9568 - lr: 0.0010\n",
            "Epoch 10/20\n",
            "64/64 [==============================] - 5s 82ms/step - loss: 0.0635 - accuracy: 0.9854 - val_loss: 0.2093 - val_accuracy: 0.9562 - lr: 0.0010\n",
            "Epoch 11/20\n",
            "64/64 [==============================] - 5s 79ms/step - loss: 0.0569 - accuracy: 0.9877 - val_loss: 0.2471 - val_accuracy: 0.9574 - lr: 0.0010\n",
            "Epoch 12/20\n",
            "64/64 [==============================] - 5s 76ms/step - loss: 0.0586 - accuracy: 0.9879 - val_loss: 0.2562 - val_accuracy: 0.9539 - lr: 0.0010\n",
            "Epoch 13/20\n",
            "64/64 [==============================] - 5s 78ms/step - loss: 0.0565 - accuracy: 0.9874 - val_loss: 0.2654 - val_accuracy: 0.9585 - lr: 0.0010\n",
            "Epoch 14/20\n",
            "64/64 [==============================] - 5s 79ms/step - loss: 0.0584 - accuracy: 0.9879 - val_loss: 0.2793 - val_accuracy: 0.9579 - lr: 0.0010\n",
            "Epoch 15/20\n",
            "64/64 [==============================] - 5s 76ms/step - loss: 0.0572 - accuracy: 0.9879 - val_loss: 0.2822 - val_accuracy: 0.9539 - lr: 0.0010\n",
            "Epoch 16/20\n",
            "64/64 [==============================] - 5s 76ms/step - loss: 0.0571 - accuracy: 0.9881 - val_loss: 0.2552 - val_accuracy: 0.9568 - lr: 0.0010\n",
            "Epoch 17/20\n",
            "64/64 [==============================] - 5s 77ms/step - loss: 0.0582 - accuracy: 0.9872 - val_loss: 0.2809 - val_accuracy: 0.9562 - lr: 0.0010\n",
            "Epoch 18/20\n",
            "64/64 [==============================] - 5s 77ms/step - loss: 0.0587 - accuracy: 0.9864 - val_loss: 0.2268 - val_accuracy: 0.9556 - lr: 0.0010\n",
            "Epoch 19/20\n",
            "64/64 [==============================] - 5s 77ms/step - loss: 0.0578 - accuracy: 0.9879 - val_loss: 0.3126 - val_accuracy: 0.9522 - lr: 0.0010\n",
            "Epoch 20/20\n",
            "64/64 [==============================] - 5s 77ms/step - loss: 0.0596 - accuracy: 0.9874 - val_loss: 0.2689 - val_accuracy: 0.9533 - lr: 0.0010\n"
          ]
        }
      ]
    },
    {
      "cell_type": "code",
      "source": [
        "#visualize\n",
        "\n",
        "acc_glove = history_glv_aug.history['accuracy']\n",
        "val_acc_glove = history_glv_aug.history['val_accuracy']\n",
        "\n",
        "loss_glove = history_glv_aug.history['loss']\n",
        "val_loss_glove = history_glv_aug.history['val_loss']\n",
        "\n",
        "epochs_range = range(epochs)\n",
        "\n",
        "\n",
        "plt.figure(figsize = (12, 8))\n",
        "plt.plot(epochs_range, acc_glove, label = 'Training Accuracy')\n",
        "plt.plot(epochs_range, val_acc_glove, label = 'Validation Accuracy')\n",
        "\n",
        "plt.plot(epochs_range, loss_glove, label = 'Training Loss')\n",
        "plt.plot(epochs_range, val_loss_glove, label = 'Validation Loss')\n",
        "plt.legend(loc = 'best')\n",
        "plt.title('LSTM Training and Validation')\n",
        "plt.grid(False)\n",
        "\n",
        "plt.show()"
      ],
      "metadata": {
        "colab": {
          "base_uri": "https://localhost:8080/",
          "height": 499
        },
        "id": "XL7CmarfBWI1",
        "outputId": "a75b64c2-65c5-4150-fb52-16d76107fd66"
      },
      "execution_count": null,
      "outputs": [
        {
          "output_type": "display_data",
          "data": {
            "text/plain": [
              "<Figure size 864x576 with 1 Axes>"
            ],
            "image/png": "[encoded data removed]"
          },
          "metadata": {
            "needs_background": "light"
          }
        }
      ]
    },
    {
      "cell_type": "code",
      "source": [
        "#set threshold for positive/negative sentiment\n",
        "def get_sentiment(score): \n",
        "    return \"Positive\" if score>0.5 else \"Negative\"\n",
        "\n",
        "\n",
        "scores = model_glove.predict(x_test, verbose=1, batch_size=10000) \n",
        "y_pred_aug = [get_sentiment(score) for score in scores]"
      ],
      "metadata": {
        "id": "fIdYiNCGBrcj"
      },
      "execution_count": null,
      "outputs": []
    },
    {
      "cell_type": "code",
      "source": [
        "#plot confusion matrix\n",
        "cnf_matrix = confusion_matrix(test_data.feedback.to_list(), y_pred_aug)\n",
        "plt.figure(figsize=(8,8))\n",
        "plot_confusion_matrix(cnf_matrix, classes=test_data.feedback.unique(), title=\"Confusion matrix\")\n",
        "plt.show();"
      ],
      "metadata": {
        "id": "1A_rRgq1Bwjr"
      },
      "execution_count": null,
      "outputs": []
    },
    {
      "cell_type": "code",
      "source": [
        "print(classification_report(list(test_data.feedback.to_list()), y_pred_aug))"
      ],
      "metadata": {
        "id": "NWxxUturI9nx"
      },
      "execution_count": null,
      "outputs": []
    }
  ],
  "metadata": {
    "colab": {
      "background_execution": "on",
      "collapsed_sections": [],
      "machine_shape": "hm",
      "provenance": []
    },
    "gpuClass": "standard",
    "kernelspec": {
      "display_name": "Python 3",
      "name": "python3"
    },
    "language_info": {
      "name": "python"
    },
    "widgets": {
      "application/vnd.jupyter.widget-state+json": {
        "aae42161cdb3466ab1664869ac69c2b7": {
          "model_module": "@jupyter-widgets/controls",
          "model_name": "HBoxModel",
          "model_module_version": "1.5.0",
          "state": {
            "_dom_classes": [],
            "_model_module": "@jupyter-widgets/controls",
            "_model_module_version": "1.5.0",
            "_model_name": "HBoxModel",
            "_view_count": null,
            "_view_module": "@jupyter-widgets/controls",
            "_view_module_version": "1.5.0",
            "_view_name": "HBoxView",
            "box_style": "",
            "children": [
              "IPY_MODEL_3e805462b8cc4f178e87803d292bdceb",
              "IPY_MODEL_f02fde54b1b344d29a355ac197737baa",
              "IPY_MODEL_9eeed1ea7c064962947e17a995aa9d56"
            ],
            "layout": "IPY_MODEL_2a2fe608e4dd48d5b270a7d85854019c"
          }
        },
        "3e805462b8cc4f178e87803d292bdceb": {
          "model_module": "@jupyter-widgets/controls",
          "model_name": "HTMLModel",
          "model_module_version": "1.5.0",
          "state": {
            "_dom_classes": [],
            "_model_module": "@jupyter-widgets/controls",
            "_model_module_version": "1.5.0",
            "_model_name": "HTMLModel",
            "_view_count": null,
            "_view_module": "@jupyter-widgets/controls",
            "_view_module_version": "1.5.0",
            "_view_name": "HTMLView",
            "description": "",
            "description_tooltip": null,
            "layout": "IPY_MODEL_2b19bb6b912941579bdcbf0f637a49f2",
            "placeholder": "​",
            "style": "IPY_MODEL_d58f09a27e0749178828c997e2b3d9a9",
            "value": "Downloading tokenizer_config.json: 100%"
          }
        },
        "f02fde54b1b344d29a355ac197737baa": {
          "model_module": "@jupyter-widgets/controls",
          "model_name": "FloatProgressModel",
          "model_module_version": "1.5.0",
          "state": {
            "_dom_classes": [],
            "_model_module": "@jupyter-widgets/controls",
            "_model_module_version": "1.5.0",
            "_model_name": "FloatProgressModel",
            "_view_count": null,
            "_view_module": "@jupyter-widgets/controls",
            "_view_module_version": "1.5.0",
            "_view_name": "ProgressView",
            "bar_style": "success",
            "description": "",
            "description_tooltip": null,
            "layout": "IPY_MODEL_de7ee373af5e4560afa1ce7b14f0dfbd",
            "max": 28,
            "min": 0,
            "orientation": "horizontal",
            "style": "IPY_MODEL_b1c359ad58d3497d998332b28b47739a",
            "value": 28
          }
        },
        "9eeed1ea7c064962947e17a995aa9d56": {
          "model_module": "@jupyter-widgets/controls",
          "model_name": "HTMLModel",
          "model_module_version": "1.5.0",
          "state": {
            "_dom_classes": [],
            "_model_module": "@jupyter-widgets/controls",
            "_model_module_version": "1.5.0",
            "_model_name": "HTMLModel",
            "_view_count": null,
            "_view_module": "@jupyter-widgets/controls",
            "_view_module_version": "1.5.0",
            "_view_name": "HTMLView",
            "description": "",
            "description_tooltip": null,
            "layout": "IPY_MODEL_0f11a160528044e48d8e92f55bdd8f5a",
            "placeholder": "​",
            "style": "IPY_MODEL_9b9cf7c095a3474f95ed3513573dd4dd",
            "value": " 28.0/28.0 [00:00&lt;00:00, 758B/s]"
          }
        },
        "2a2fe608e4dd48d5b270a7d85854019c": {
          "model_module": "@jupyter-widgets/base",
          "model_name": "LayoutModel",
          "model_module_version": "1.2.0",
          "state": {
            "_model_module": "@jupyter-widgets/base",
            "_model_module_version": "1.2.0",
            "_model_name": "LayoutModel",
            "_view_count": null,
            "_view_module": "@jupyter-widgets/base",
            "_view_module_version": "1.2.0",
            "_view_name": "LayoutView",
            "align_content": null,
            "align_items": null,
            "align_self": null,
            "border": null,
            "bottom": null,
            "display": null,
            "flex": null,
            "flex_flow": null,
            "grid_area": null,
            "grid_auto_columns": null,
            "grid_auto_flow": null,
            "grid_auto_rows": null,
            "grid_column": null,
            "grid_gap": null,
            "grid_row": null,
            "grid_template_areas": null,
            "grid_template_columns": null,
            "grid_template_rows": null,
            "height": null,
            "justify_content": null,
            "justify_items": null,
            "left": null,
            "margin": null,
            "max_height": null,
            "max_width": null,
            "min_height": null,
            "min_width": null,
            "object_fit": null,
            "object_position": null,
            "order": null,
            "overflow": null,
            "overflow_x": null,
            "overflow_y": null,
            "padding": null,
            "right": null,
            "top": null,
            "visibility": null,
            "width": null
          }
        },
        "2b19bb6b912941579bdcbf0f637a49f2": {
          "model_module": "@jupyter-widgets/base",
          "model_name": "LayoutModel",
          "model_module_version": "1.2.0",
          "state": {
            "_model_module": "@jupyter-widgets/base",
            "_model_module_version": "1.2.0",
            "_model_name": "LayoutModel",
            "_view_count": null,
            "_view_module": "@jupyter-widgets/base",
            "_view_module_version": "1.2.0",
            "_view_name": "LayoutView",
            "align_content": null,
            "align_items": null,
            "align_self": null,
            "border": null,
            "bottom": null,
            "display": null,
            "flex": null,
            "flex_flow": null,
            "grid_area": null,
            "grid_auto_columns": null,
            "grid_auto_flow": null,
            "grid_auto_rows": null,
            "grid_column": null,
            "grid_gap": null,
            "grid_row": null,
            "grid_template_areas": null,
            "grid_template_columns": null,
            "grid_template_rows": null,
            "height": null,
            "justify_content": null,
            "justify_items": null,
            "left": null,
            "margin": null,
            "max_height": null,
            "max_width": null,
            "min_height": null,
            "min_width": null,
            "object_fit": null,
            "object_position": null,
            "order": null,
            "overflow": null,
            "overflow_x": null,
            "overflow_y": null,
            "padding": null,
            "right": null,
            "top": null,
            "visibility": null,
            "width": null
          }
        },
        "d58f09a27e0749178828c997e2b3d9a9": {
          "model_module": "@jupyter-widgets/controls",
          "model_name": "DescriptionStyleModel",
          "model_module_version": "1.5.0",
          "state": {
            "_model_module": "@jupyter-widgets/controls",
            "_model_module_version": "1.5.0",
            "_model_name": "DescriptionStyleModel",
            "_view_count": null,
            "_view_module": "@jupyter-widgets/base",
            "_view_module_version": "1.2.0",
            "_view_name": "StyleView",
            "description_width": ""
          }
        },
        "de7ee373af5e4560afa1ce7b14f0dfbd": {
          "model_module": "@jupyter-widgets/base",
          "model_name": "LayoutModel",
          "model_module_version": "1.2.0",
          "state": {
            "_model_module": "@jupyter-widgets/base",
            "_model_module_version": "1.2.0",
            "_model_name": "LayoutModel",
            "_view_count": null,
            "_view_module": "@jupyter-widgets/base",
            "_view_module_version": "1.2.0",
            "_view_name": "LayoutView",
            "align_content": null,
            "align_items": null,
            "align_self": null,
            "border": null,
            "bottom": null,
            "display": null,
            "flex": null,
            "flex_flow": null,
            "grid_area": null,
            "grid_auto_columns": null,
            "grid_auto_flow": null,
            "grid_auto_rows": null,
            "grid_column": null,
            "grid_gap": null,
            "grid_row": null,
            "grid_template_areas": null,
            "grid_template_columns": null,
            "grid_template_rows": null,
            "height": null,
            "justify_content": null,
            "justify_items": null,
            "left": null,
            "margin": null,
            "max_height": null,
            "max_width": null,
            "min_height": null,
            "min_width": null,
            "object_fit": null,
            "object_position": null,
            "order": null,
            "overflow": null,
            "overflow_x": null,
            "overflow_y": null,
            "padding": null,
            "right": null,
            "top": null,
            "visibility": null,
            "width": null
          }
        },
        "b1c359ad58d3497d998332b28b47739a": {
          "model_module": "@jupyter-widgets/controls",
          "model_name": "ProgressStyleModel",
          "model_module_version": "1.5.0",
          "state": {
            "_model_module": "@jupyter-widgets/controls",
            "_model_module_version": "1.5.0",
            "_model_name": "ProgressStyleModel",
            "_view_count": null,
            "_view_module": "@jupyter-widgets/base",
            "_view_module_version": "1.2.0",
            "_view_name": "StyleView",
            "bar_color": null,
            "description_width": ""
          }
        },
        "0f11a160528044e48d8e92f55bdd8f5a": {
          "model_module": "@jupyter-widgets/base",
          "model_name": "LayoutModel",
          "model_module_version": "1.2.0",
          "state": {
            "_model_module": "@jupyter-widgets/base",
            "_model_module_version": "1.2.0",
            "_model_name": "LayoutModel",
            "_view_count": null,
            "_view_module": "@jupyter-widgets/base",
            "_view_module_version": "1.2.0",
            "_view_name": "LayoutView",
            "align_content": null,
            "align_items": null,
            "align_self": null,
            "border": null,
            "bottom": null,
            "display": null,
            "flex": null,
            "flex_flow": null,
            "grid_area": null,
            "grid_auto_columns": null,
            "grid_auto_flow": null,
            "grid_auto_rows": null,
            "grid_column": null,
            "grid_gap": null,
            "grid_row": null,
            "grid_template_areas": null,
            "grid_template_columns": null,
            "grid_template_rows": null,
            "height": null,
            "justify_content": null,
            "justify_items": null,
            "left": null,
            "margin": null,
            "max_height": null,
            "max_width": null,
            "min_height": null,
            "min_width": null,
            "object_fit": null,
            "object_position": null,
            "order": null,
            "overflow": null,
            "overflow_x": null,
            "overflow_y": null,
            "padding": null,
            "right": null,
            "top": null,
            "visibility": null,
            "width": null
          }
        },
        "9b9cf7c095a3474f95ed3513573dd4dd": {
          "model_module": "@jupyter-widgets/controls",
          "model_name": "DescriptionStyleModel",
          "model_module_version": "1.5.0",
          "state": {
            "_model_module": "@jupyter-widgets/controls",
            "_model_module_version": "1.5.0",
            "_model_name": "DescriptionStyleModel",
            "_view_count": null,
            "_view_module": "@jupyter-widgets/base",
            "_view_module_version": "1.2.0",
            "_view_name": "StyleView",
            "description_width": ""
          }
        },
        "ccad37e9ed824a8f80f83880968cb303": {
          "model_module": "@jupyter-widgets/controls",
          "model_name": "HBoxModel",
          "model_module_version": "1.5.0",
          "state": {
            "_dom_classes": [],
            "_model_module": "@jupyter-widgets/controls",
            "_model_module_version": "1.5.0",
            "_model_name": "HBoxModel",
            "_view_count": null,
            "_view_module": "@jupyter-widgets/controls",
            "_view_module_version": "1.5.0",
            "_view_name": "HBoxView",
            "box_style": "",
            "children": [
              "IPY_MODEL_cb19e3a0784f46fba94d9cda65bcd151",
              "IPY_MODEL_28a038a75c3242719e19d0a9334f3396",
              "IPY_MODEL_55cd9565838f4c1593957e4b2decddf7"
            ],
            "layout": "IPY_MODEL_fd42f4b1abaf492ebdb1c452ac7d57a6"
          }
        },
        "cb19e3a0784f46fba94d9cda65bcd151": {
          "model_module": "@jupyter-widgets/controls",
          "model_name": "HTMLModel",
          "model_module_version": "1.5.0",
          "state": {
            "_dom_classes": [],
            "_model_module": "@jupyter-widgets/controls",
            "_model_module_version": "1.5.0",
            "_model_name": "HTMLModel",
            "_view_count": null,
            "_view_module": "@jupyter-widgets/controls",
            "_view_module_version": "1.5.0",
            "_view_name": "HTMLView",
            "description": "",
            "description_tooltip": null,
            "layout": "IPY_MODEL_7fd537125cff46d29e5ebbfd476d4869",
            "placeholder": "​",
            "style": "IPY_MODEL_6e4e45923e3749d0b1aa120ae94ec0cb",
            "value": "Downloading config.json: 100%"
          }
        },
        "28a038a75c3242719e19d0a9334f3396": {
          "model_module": "@jupyter-widgets/controls",
          "model_name": "FloatProgressModel",
          "model_module_version": "1.5.0",
          "state": {
            "_dom_classes": [],
            "_model_module": "@jupyter-widgets/controls",
            "_model_module_version": "1.5.0",
            "_model_name": "FloatProgressModel",
            "_view_count": null,
            "_view_module": "@jupyter-widgets/controls",
            "_view_module_version": "1.5.0",
            "_view_name": "ProgressView",
            "bar_style": "success",
            "description": "",
            "description_tooltip": null,
            "layout": "IPY_MODEL_778a46ad324e4dafbef9df12c8b45f43",
            "max": 570,
            "min": 0,
            "orientation": "horizontal",
            "style": "IPY_MODEL_c3cdd096139a4c16be91ce1dfa075830",
            "value": 570
          }
        },
        "55cd9565838f4c1593957e4b2decddf7": {
          "model_module": "@jupyter-widgets/controls",
          "model_name": "HTMLModel",
          "model_module_version": "1.5.0",
          "state": {
            "_dom_classes": [],
            "_model_module": "@jupyter-widgets/controls",
            "_model_module_version": "1.5.0",
            "_model_name": "HTMLModel",
            "_view_count": null,
            "_view_module": "@jupyter-widgets/controls",
            "_view_module_version": "1.5.0",
            "_view_name": "HTMLView",
            "description": "",
            "description_tooltip": null,
            "layout": "IPY_MODEL_f6a207bea0ff43fe8da99a1487b396ee",
            "placeholder": "​",
            "style": "IPY_MODEL_2c9012ef5b254f9b8f1875a2c9344c1c",
            "value": " 570/570 [00:00&lt;00:00, 16.6kB/s]"
          }
        },
        "fd42f4b1abaf492ebdb1c452ac7d57a6": {
          "model_module": "@jupyter-widgets/base",
          "model_name": "LayoutModel",
          "model_module_version": "1.2.0",
          "state": {
            "_model_module": "@jupyter-widgets/base",
            "_model_module_version": "1.2.0",
            "_model_name": "LayoutModel",
            "_view_count": null,
            "_view_module": "@jupyter-widgets/base",
            "_view_module_version": "1.2.0",
            "_view_name": "LayoutView",
            "align_content": null,
            "align_items": null,
            "align_self": null,
            "border": null,
            "bottom": null,
            "display": null,
            "flex": null,
            "flex_flow": null,
            "grid_area": null,
            "grid_auto_columns": null,
            "grid_auto_flow": null,
            "grid_auto_rows": null,
            "grid_column": null,
            "grid_gap": null,
            "grid_row": null,
            "grid_template_areas": null,
            "grid_template_columns": null,
            "grid_template_rows": null,
            "height": null,
            "justify_content": null,
            "justify_items": null,
            "left": null,
            "margin": null,
            "max_height": null,
            "max_width": null,
            "min_height": null,
            "min_width": null,
            "object_fit": null,
            "object_position": null,
            "order": null,
            "overflow": null,
            "overflow_x": null,
            "overflow_y": null,
            "padding": null,
            "right": null,
            "top": null,
            "visibility": null,
            "width": null
          }
        },
        "7fd537125cff46d29e5ebbfd476d4869": {
          "model_module": "@jupyter-widgets/base",
          "model_name": "LayoutModel",
          "model_module_version": "1.2.0",
          "state": {
            "_model_module": "@jupyter-widgets/base",
            "_model_module_version": "1.2.0",
            "_model_name": "LayoutModel",
            "_view_count": null,
            "_view_module": "@jupyter-widgets/base",
            "_view_module_version": "1.2.0",
            "_view_name": "LayoutView",
            "align_content": null,
            "align_items": null,
            "align_self": null,
            "border": null,
            "bottom": null,
            "display": null,
            "flex": null,
            "flex_flow": null,
            "grid_area": null,
            "grid_auto_columns": null,
            "grid_auto_flow": null,
            "grid_auto_rows": null,
            "grid_column": null,
            "grid_gap": null,
            "grid_row": null,
            "grid_template_areas": null,
            "grid_template_columns": null,
            "grid_template_rows": null,
            "height": null,
            "justify_content": null,
            "justify_items": null,
            "left": null,
            "margin": null,
            "max_height": null,
            "max_width": null,
            "min_height": null,
            "min_width": null,
            "object_fit": null,
            "object_position": null,
            "order": null,
            "overflow": null,
            "overflow_x": null,
            "overflow_y": null,
            "padding": null,
            "right": null,
            "top": null,
            "visibility": null,
            "width": null
          }
        },
        "6e4e45923e3749d0b1aa120ae94ec0cb": {
          "model_module": "@jupyter-widgets/controls",
          "model_name": "DescriptionStyleModel",
          "model_module_version": "1.5.0",
          "state": {
            "_model_module": "@jupyter-widgets/controls",
            "_model_module_version": "1.5.0",
            "_model_name": "DescriptionStyleModel",
            "_view_count": null,
            "_view_module": "@jupyter-widgets/base",
            "_view_module_version": "1.2.0",
            "_view_name": "StyleView",
            "description_width": ""
          }
        },
        "778a46ad324e4dafbef9df12c8b45f43": {
          "model_module": "@jupyter-widgets/base",
          "model_name": "LayoutModel",
          "model_module_version": "1.2.0",
          "state": {
            "_model_module": "@jupyter-widgets/base",
            "_model_module_version": "1.2.0",
            "_model_name": "LayoutModel",
            "_view_count": null,
            "_view_module": "@jupyter-widgets/base",
            "_view_module_version": "1.2.0",
            "_view_name": "LayoutView",
            "align_content": null,
            "align_items": null,
            "align_self": null,
            "border": null,
            "bottom": null,
            "display": null,
            "flex": null,
            "flex_flow": null,
            "grid_area": null,
            "grid_auto_columns": null,
            "grid_auto_flow": null,
            "grid_auto_rows": null,
            "grid_column": null,
            "grid_gap": null,
            "grid_row": null,
            "grid_template_areas": null,
            "grid_template_columns": null,
            "grid_template_rows": null,
            "height": null,
            "justify_content": null,
            "justify_items": null,
            "left": null,
            "margin": null,
            "max_height": null,
            "max_width": null,
            "min_height": null,
            "min_width": null,
            "object_fit": null,
            "object_position": null,
            "order": null,
            "overflow": null,
            "overflow_x": null,
            "overflow_y": null,
            "padding": null,
            "right": null,
            "top": null,
            "visibility": null,
            "width": null
          }
        },
        "c3cdd096139a4c16be91ce1dfa075830": {
          "model_module": "@jupyter-widgets/controls",
          "model_name": "ProgressStyleModel",
          "model_module_version": "1.5.0",
          "state": {
            "_model_module": "@jupyter-widgets/controls",
            "_model_module_version": "1.5.0",
            "_model_name": "ProgressStyleModel",
            "_view_count": null,
            "_view_module": "@jupyter-widgets/base",
            "_view_module_version": "1.2.0",
            "_view_name": "StyleView",
            "bar_color": null,
            "description_width": ""
          }
        },
        "f6a207bea0ff43fe8da99a1487b396ee": {
          "model_module": "@jupyter-widgets/base",
          "model_name": "LayoutModel",
          "model_module_version": "1.2.0",
          "state": {
            "_model_module": "@jupyter-widgets/base",
            "_model_module_version": "1.2.0",
            "_model_name": "LayoutModel",
            "_view_count": null,
            "_view_module": "@jupyter-widgets/base",
            "_view_module_version": "1.2.0",
            "_view_name": "LayoutView",
            "align_content": null,
            "align_items": null,
            "align_self": null,
            "border": null,
            "bottom": null,
            "display": null,
            "flex": null,
            "flex_flow": null,
            "grid_area": null,
            "grid_auto_columns": null,
            "grid_auto_flow": null,
            "grid_auto_rows": null,
            "grid_column": null,
            "grid_gap": null,
            "grid_row": null,
            "grid_template_areas": null,
            "grid_template_columns": null,
            "grid_template_rows": null,
            "height": null,
            "justify_content": null,
            "justify_items": null,
            "left": null,
            "margin": null,
            "max_height": null,
            "max_width": null,
            "min_height": null,
            "min_width": null,
            "object_fit": null,
            "object_position": null,
            "order": null,
            "overflow": null,
            "overflow_x": null,
            "overflow_y": null,
            "padding": null,
            "right": null,
            "top": null,
            "visibility": null,
            "width": null
          }
        },
        "2c9012ef5b254f9b8f1875a2c9344c1c": {
          "model_module": "@jupyter-widgets/controls",
          "model_name": "DescriptionStyleModel",
          "model_module_version": "1.5.0",
          "state": {
            "_model_module": "@jupyter-widgets/controls",
            "_model_module_version": "1.5.0",
            "_model_name": "DescriptionStyleModel",
            "_view_count": null,
            "_view_module": "@jupyter-widgets/base",
            "_view_module_version": "1.2.0",
            "_view_name": "StyleView",
            "description_width": ""
          }
        },
        "a60445dbf8bb4eb485f6506fa720f0c6": {
          "model_module": "@jupyter-widgets/controls",
          "model_name": "HBoxModel",
          "model_module_version": "1.5.0",
          "state": {
            "_dom_classes": [],
            "_model_module": "@jupyter-widgets/controls",
            "_model_module_version": "1.5.0",
            "_model_name": "HBoxModel",
            "_view_count": null,
            "_view_module": "@jupyter-widgets/controls",
            "_view_module_version": "1.5.0",
            "_view_name": "HBoxView",
            "box_style": "",
            "children": [
              "IPY_MODEL_31a63b454096421da3fb7bfbd3af3cbe",
              "IPY_MODEL_653a8a8826c844299fa80de2a5231f0a",
              "IPY_MODEL_be8765c1e33c4f948c84db98f8f738b3"
            ],
            "layout": "IPY_MODEL_2e3f87c4df1b450b91595b79f3aabaad"
          }
        },
        "31a63b454096421da3fb7bfbd3af3cbe": {
          "model_module": "@jupyter-widgets/controls",
          "model_name": "HTMLModel",
          "model_module_version": "1.5.0",
          "state": {
            "_dom_classes": [],
            "_model_module": "@jupyter-widgets/controls",
            "_model_module_version": "1.5.0",
            "_model_name": "HTMLModel",
            "_view_count": null,
            "_view_module": "@jupyter-widgets/controls",
            "_view_module_version": "1.5.0",
            "_view_name": "HTMLView",
            "description": "",
            "description_tooltip": null,
            "layout": "IPY_MODEL_d655d694f0354171a751b0aaaecabe16",
            "placeholder": "​",
            "style": "IPY_MODEL_d898fd411ae14f79b919ebdfe2ec7c65",
            "value": "Downloading vocab.txt: 100%"
          }
        },
        "653a8a8826c844299fa80de2a5231f0a": {
          "model_module": "@jupyter-widgets/controls",
          "model_name": "FloatProgressModel",
          "model_module_version": "1.5.0",
          "state": {
            "_dom_classes": [],
            "_model_module": "@jupyter-widgets/controls",
            "_model_module_version": "1.5.0",
            "_model_name": "FloatProgressModel",
            "_view_count": null,
            "_view_module": "@jupyter-widgets/controls",
            "_view_module_version": "1.5.0",
            "_view_name": "ProgressView",
            "bar_style": "success",
            "description": "",
            "description_tooltip": null,
            "layout": "IPY_MODEL_66559556fe594d22a732f214c0b39cb0",
            "max": 231508,
            "min": 0,
            "orientation": "horizontal",
            "style": "IPY_MODEL_0389854a5f704c099e226bd70d068293",
            "value": 231508
          }
        },
        "be8765c1e33c4f948c84db98f8f738b3": {
          "model_module": "@jupyter-widgets/controls",
          "model_name": "HTMLModel",
          "model_module_version": "1.5.0",
          "state": {
            "_dom_classes": [],
            "_model_module": "@jupyter-widgets/controls",
            "_model_module_version": "1.5.0",
            "_model_name": "HTMLModel",
            "_view_count": null,
            "_view_module": "@jupyter-widgets/controls",
            "_view_module_version": "1.5.0",
            "_view_name": "HTMLView",
            "description": "",
            "description_tooltip": null,
            "layout": "IPY_MODEL_b2f711569a7947fcb2f2da2ab0dd89ad",
            "placeholder": "​",
            "style": "IPY_MODEL_0d50fc1ad3fd4c7cb36669c7e62c0321",
            "value": " 226k/226k [00:00&lt;00:00, 321kB/s]"
          }
        },
        "2e3f87c4df1b450b91595b79f3aabaad": {
          "model_module": "@jupyter-widgets/base",
          "model_name": "LayoutModel",
          "model_module_version": "1.2.0",
          "state": {
            "_model_module": "@jupyter-widgets/base",
            "_model_module_version": "1.2.0",
            "_model_name": "LayoutModel",
            "_view_count": null,
            "_view_module": "@jupyter-widgets/base",
            "_view_module_version": "1.2.0",
            "_view_name": "LayoutView",
            "align_content": null,
            "align_items": null,
            "align_self": null,
            "border": null,
            "bottom": null,
            "display": null,
            "flex": null,
            "flex_flow": null,
            "grid_area": null,
            "grid_auto_columns": null,
            "grid_auto_flow": null,
            "grid_auto_rows": null,
            "grid_column": null,
            "grid_gap": null,
            "grid_row": null,
            "grid_template_areas": null,
            "grid_template_columns": null,
            "grid_template_rows": null,
            "height": null,
            "justify_content": null,
            "justify_items": null,
            "left": null,
            "margin": null,
            "max_height": null,
            "max_width": null,
            "min_height": null,
            "min_width": null,
            "object_fit": null,
            "object_position": null,
            "order": null,
            "overflow": null,
            "overflow_x": null,
            "overflow_y": null,
            "padding": null,
            "right": null,
            "top": null,
            "visibility": null,
            "width": null
          }
        },
        "d655d694f0354171a751b0aaaecabe16": {
          "model_module": "@jupyter-widgets/base",
          "model_name": "LayoutModel",
          "model_module_version": "1.2.0",
          "state": {
            "_model_module": "@jupyter-widgets/base",
            "_model_module_version": "1.2.0",
            "_model_name": "LayoutModel",
            "_view_count": null,
            "_view_module": "@jupyter-widgets/base",
            "_view_module_version": "1.2.0",
            "_view_name": "LayoutView",
            "align_content": null,
            "align_items": null,
            "align_self": null,
            "border": null,
            "bottom": null,
            "display": null,
            "flex": null,
            "flex_flow": null,
            "grid_area": null,
            "grid_auto_columns": null,
            "grid_auto_flow": null,
            "grid_auto_rows": null,
            "grid_column": null,
            "grid_gap": null,
            "grid_row": null,
            "grid_template_areas": null,
            "grid_template_columns": null,
            "grid_template_rows": null,
            "height": null,
            "justify_content": null,
            "justify_items": null,
            "left": null,
            "margin": null,
            "max_height": null,
            "max_width": null,
            "min_height": null,
            "min_width": null,
            "object_fit": null,
            "object_position": null,
            "order": null,
            "overflow": null,
            "overflow_x": null,
            "overflow_y": null,
            "padding": null,
            "right": null,
            "top": null,
            "visibility": null,
            "width": null
          }
        },
        "d898fd411ae14f79b919ebdfe2ec7c65": {
          "model_module": "@jupyter-widgets/controls",
          "model_name": "DescriptionStyleModel",
          "model_module_version": "1.5.0",
          "state": {
            "_model_module": "@jupyter-widgets/controls",
            "_model_module_version": "1.5.0",
            "_model_name": "DescriptionStyleModel",
            "_view_count": null,
            "_view_module": "@jupyter-widgets/base",
            "_view_module_version": "1.2.0",
            "_view_name": "StyleView",
            "description_width": ""
          }
        },
        "66559556fe594d22a732f214c0b39cb0": {
          "model_module": "@jupyter-widgets/base",
          "model_name": "LayoutModel",
          "model_module_version": "1.2.0",
          "state": {
            "_model_module": "@jupyter-widgets/base",
            "_model_module_version": "1.2.0",
            "_model_name": "LayoutModel",
            "_view_count": null,
            "_view_module": "@jupyter-widgets/base",
            "_view_module_version": "1.2.0",
            "_view_name": "LayoutView",
            "align_content": null,
            "align_items": null,
            "align_self": null,
            "border": null,
            "bottom": null,
            "display": null,
            "flex": null,
            "flex_flow": null,
            "grid_area": null,
            "grid_auto_columns": null,
            "grid_auto_flow": null,
            "grid_auto_rows": null,
            "grid_column": null,
            "grid_gap": null,
            "grid_row": null,
            "grid_template_areas": null,
            "grid_template_columns": null,
            "grid_template_rows": null,
            "height": null,
            "justify_content": null,
            "justify_items": null,
            "left": null,
            "margin": null,
            "max_height": null,
            "max_width": null,
            "min_height": null,
            "min_width": null,
            "object_fit": null,
            "object_position": null,
            "order": null,
            "overflow": null,
            "overflow_x": null,
            "overflow_y": null,
            "padding": null,
            "right": null,
            "top": null,
            "visibility": null,
            "width": null
          }
        },
        "0389854a5f704c099e226bd70d068293": {
          "model_module": "@jupyter-widgets/controls",
          "model_name": "ProgressStyleModel",
          "model_module_version": "1.5.0",
          "state": {
            "_model_module": "@jupyter-widgets/controls",
            "_model_module_version": "1.5.0",
            "_model_name": "ProgressStyleModel",
            "_view_count": null,
            "_view_module": "@jupyter-widgets/base",
            "_view_module_version": "1.2.0",
            "_view_name": "StyleView",
            "bar_color": null,
            "description_width": ""
          }
        },
        "b2f711569a7947fcb2f2da2ab0dd89ad": {
          "model_module": "@jupyter-widgets/base",
          "model_name": "LayoutModel",
          "model_module_version": "1.2.0",
          "state": {
            "_model_module": "@jupyter-widgets/base",
            "_model_module_version": "1.2.0",
            "_model_name": "LayoutModel",
            "_view_count": null,
            "_view_module": "@jupyter-widgets/base",
            "_view_module_version": "1.2.0",
            "_view_name": "LayoutView",
            "align_content": null,
            "align_items": null,
            "align_self": null,
            "border": null,
            "bottom": null,
            "display": null,
            "flex": null,
            "flex_flow": null,
            "grid_area": null,
            "grid_auto_columns": null,
            "grid_auto_flow": null,
            "grid_auto_rows": null,
            "grid_column": null,
            "grid_gap": null,
            "grid_row": null,
            "grid_template_areas": null,
            "grid_template_columns": null,
            "grid_template_rows": null,
            "height": null,
            "justify_content": null,
            "justify_items": null,
            "left": null,
            "margin": null,
            "max_height": null,
            "max_width": null,
            "min_height": null,
            "min_width": null,
            "object_fit": null,
            "object_position": null,
            "order": null,
            "overflow": null,
            "overflow_x": null,
            "overflow_y": null,
            "padding": null,
            "right": null,
            "top": null,
            "visibility": null,
            "width": null
          }
        },
        "0d50fc1ad3fd4c7cb36669c7e62c0321": {
          "model_module": "@jupyter-widgets/controls",
          "model_name": "DescriptionStyleModel",
          "model_module_version": "1.5.0",
          "state": {
            "_model_module": "@jupyter-widgets/controls",
            "_model_module_version": "1.5.0",
            "_model_name": "DescriptionStyleModel",
            "_view_count": null,
            "_view_module": "@jupyter-widgets/base",
            "_view_module_version": "1.2.0",
            "_view_name": "StyleView",
            "description_width": ""
          }
        },
        "c41a47a0335e4173824eb0bd4dda62c1": {
          "model_module": "@jupyter-widgets/controls",
          "model_name": "HBoxModel",
          "model_module_version": "1.5.0",
          "state": {
            "_dom_classes": [],
            "_model_module": "@jupyter-widgets/controls",
            "_model_module_version": "1.5.0",
            "_model_name": "HBoxModel",
            "_view_count": null,
            "_view_module": "@jupyter-widgets/controls",
            "_view_module_version": "1.5.0",
            "_view_name": "HBoxView",
            "box_style": "",
            "children": [
              "IPY_MODEL_7b84de77b7e841c5aa36b077d41e3bdb",
              "IPY_MODEL_217625f9b1c24be8b6ad0ae4f3f99c20",
              "IPY_MODEL_12861cfc2dde4892a909b11e433197aa"
            ],
            "layout": "IPY_MODEL_c1abd12e9b9a49afa3312e15b510243a"
          }
        },
        "7b84de77b7e841c5aa36b077d41e3bdb": {
          "model_module": "@jupyter-widgets/controls",
          "model_name": "HTMLModel",
          "model_module_version": "1.5.0",
          "state": {
            "_dom_classes": [],
            "_model_module": "@jupyter-widgets/controls",
            "_model_module_version": "1.5.0",
            "_model_name": "HTMLModel",
            "_view_count": null,
            "_view_module": "@jupyter-widgets/controls",
            "_view_module_version": "1.5.0",
            "_view_name": "HTMLView",
            "description": "",
            "description_tooltip": null,
            "layout": "IPY_MODEL_93e3423acc7640cd901ef496d6980bce",
            "placeholder": "​",
            "style": "IPY_MODEL_1cf2f6e0d5444deaa337468139ee22a7",
            "value": "Downloading tokenizer.json: 100%"
          }
        },
        "217625f9b1c24be8b6ad0ae4f3f99c20": {
          "model_module": "@jupyter-widgets/controls",
          "model_name": "FloatProgressModel",
          "model_module_version": "1.5.0",
          "state": {
            "_dom_classes": [],
            "_model_module": "@jupyter-widgets/controls",
            "_model_module_version": "1.5.0",
            "_model_name": "FloatProgressModel",
            "_view_count": null,
            "_view_module": "@jupyter-widgets/controls",
            "_view_module_version": "1.5.0",
            "_view_name": "ProgressView",
            "bar_style": "success",
            "description": "",
            "description_tooltip": null,
            "layout": "IPY_MODEL_a859ea8693164dde8a28e4afbc37acd1",
            "max": 466062,
            "min": 0,
            "orientation": "horizontal",
            "style": "IPY_MODEL_2a3327ca200542adb52d6f2a87889610",
            "value": 466062
          }
        },
        "12861cfc2dde4892a909b11e433197aa": {
          "model_module": "@jupyter-widgets/controls",
          "model_name": "HTMLModel",
          "model_module_version": "1.5.0",
          "state": {
            "_dom_classes": [],
            "_model_module": "@jupyter-widgets/controls",
            "_model_module_version": "1.5.0",
            "_model_name": "HTMLModel",
            "_view_count": null,
            "_view_module": "@jupyter-widgets/controls",
            "_view_module_version": "1.5.0",
            "_view_name": "HTMLView",
            "description": "",
            "description_tooltip": null,
            "layout": "IPY_MODEL_c37e0366900a4cf0a3943fe1539e0f88",
            "placeholder": "​",
            "style": "IPY_MODEL_e7e8483a5ad545e889900da631fa4416",
            "value": " 455k/455k [00:00&lt;00:00, 358kB/s]"
          }
        },
        "c1abd12e9b9a49afa3312e15b510243a": {
          "model_module": "@jupyter-widgets/base",
          "model_name": "LayoutModel",
          "model_module_version": "1.2.0",
          "state": {
            "_model_module": "@jupyter-widgets/base",
            "_model_module_version": "1.2.0",
            "_model_name": "LayoutModel",
            "_view_count": null,
            "_view_module": "@jupyter-widgets/base",
            "_view_module_version": "1.2.0",
            "_view_name": "LayoutView",
            "align_content": null,
            "align_items": null,
            "align_self": null,
            "border": null,
            "bottom": null,
            "display": null,
            "flex": null,
            "flex_flow": null,
            "grid_area": null,
            "grid_auto_columns": null,
            "grid_auto_flow": null,
            "grid_auto_rows": null,
            "grid_column": null,
            "grid_gap": null,
            "grid_row": null,
            "grid_template_areas": null,
            "grid_template_columns": null,
            "grid_template_rows": null,
            "height": null,
            "justify_content": null,
            "justify_items": null,
            "left": null,
            "margin": null,
            "max_height": null,
            "max_width": null,
            "min_height": null,
            "min_width": null,
            "object_fit": null,
            "object_position": null,
            "order": null,
            "overflow": null,
            "overflow_x": null,
            "overflow_y": null,
            "padding": null,
            "right": null,
            "top": null,
            "visibility": null,
            "width": null
          }
        },
        "93e3423acc7640cd901ef496d6980bce": {
          "model_module": "@jupyter-widgets/base",
          "model_name": "LayoutModel",
          "model_module_version": "1.2.0",
          "state": {
            "_model_module": "@jupyter-widgets/base",
            "_model_module_version": "1.2.0",
            "_model_name": "LayoutModel",
            "_view_count": null,
            "_view_module": "@jupyter-widgets/base",
            "_view_module_version": "1.2.0",
            "_view_name": "LayoutView",
            "align_content": null,
            "align_items": null,
            "align_self": null,
            "border": null,
            "bottom": null,
            "display": null,
            "flex": null,
            "flex_flow": null,
            "grid_area": null,
            "grid_auto_columns": null,
            "grid_auto_flow": null,
            "grid_auto_rows": null,
            "grid_column": null,
            "grid_gap": null,
            "grid_row": null,
            "grid_template_areas": null,
            "grid_template_columns": null,
            "grid_template_rows": null,
            "height": null,
            "justify_content": null,
            "justify_items": null,
            "left": null,
            "margin": null,
            "max_height": null,
            "max_width": null,
            "min_height": null,
            "min_width": null,
            "object_fit": null,
            "object_position": null,
            "order": null,
            "overflow": null,
            "overflow_x": null,
            "overflow_y": null,
            "padding": null,
            "right": null,
            "top": null,
            "visibility": null,
            "width": null
          }
        },
        "1cf2f6e0d5444deaa337468139ee22a7": {
          "model_module": "@jupyter-widgets/controls",
          "model_name": "DescriptionStyleModel",
          "model_module_version": "1.5.0",
          "state": {
            "_model_module": "@jupyter-widgets/controls",
            "_model_module_version": "1.5.0",
            "_model_name": "DescriptionStyleModel",
            "_view_count": null,
            "_view_module": "@jupyter-widgets/base",
            "_view_module_version": "1.2.0",
            "_view_name": "StyleView",
            "description_width": ""
          }
        },
        "a859ea8693164dde8a28e4afbc37acd1": {
          "model_module": "@jupyter-widgets/base",
          "model_name": "LayoutModel",
          "model_module_version": "1.2.0",
          "state": {
            "_model_module": "@jupyter-widgets/base",
            "_model_module_version": "1.2.0",
            "_model_name": "LayoutModel",
            "_view_count": null,
            "_view_module": "@jupyter-widgets/base",
            "_view_module_version": "1.2.0",
            "_view_name": "LayoutView",
            "align_content": null,
            "align_items": null,
            "align_self": null,
            "border": null,
            "bottom": null,
            "display": null,
            "flex": null,
            "flex_flow": null,
            "grid_area": null,
            "grid_auto_columns": null,
            "grid_auto_flow": null,
            "grid_auto_rows": null,
            "grid_column": null,
            "grid_gap": null,
            "grid_row": null,
            "grid_template_areas": null,
            "grid_template_columns": null,
            "grid_template_rows": null,
            "height": null,
            "justify_content": null,
            "justify_items": null,
            "left": null,
            "margin": null,
            "max_height": null,
            "max_width": null,
            "min_height": null,
            "min_width": null,
            "object_fit": null,
            "object_position": null,
            "order": null,
            "overflow": null,
            "overflow_x": null,
            "overflow_y": null,
            "padding": null,
            "right": null,
            "top": null,
            "visibility": null,
            "width": null
          }
        },
        "2a3327ca200542adb52d6f2a87889610": {
          "model_module": "@jupyter-widgets/controls",
          "model_name": "ProgressStyleModel",
          "model_module_version": "1.5.0",
          "state": {
            "_model_module": "@jupyter-widgets/controls",
            "_model_module_version": "1.5.0",
            "_model_name": "ProgressStyleModel",
            "_view_count": null,
            "_view_module": "@jupyter-widgets/base",
            "_view_module_version": "1.2.0",
            "_view_name": "StyleView",
            "bar_color": null,
            "description_width": ""
          }
        },
        "c37e0366900a4cf0a3943fe1539e0f88": {
          "model_module": "@jupyter-widgets/base",
          "model_name": "LayoutModel",
          "model_module_version": "1.2.0",
          "state": {
            "_model_module": "@jupyter-widgets/base",
            "_model_module_version": "1.2.0",
            "_model_name": "LayoutModel",
            "_view_count": null,
            "_view_module": "@jupyter-widgets/base",
            "_view_module_version": "1.2.0",
            "_view_name": "LayoutView",
            "align_content": null,
            "align_items": null,
            "align_self": null,
            "border": null,
            "bottom": null,
            "display": null,
            "flex": null,
            "flex_flow": null,
            "grid_area": null,
            "grid_auto_columns": null,
            "grid_auto_flow": null,
            "grid_auto_rows": null,
            "grid_column": null,
            "grid_gap": null,
            "grid_row": null,
            "grid_template_areas": null,
            "grid_template_columns": null,
            "grid_template_rows": null,
            "height": null,
            "justify_content": null,
            "justify_items": null,
            "left": null,
            "margin": null,
            "max_height": null,
            "max_width": null,
            "min_height": null,
            "min_width": null,
            "object_fit": null,
            "object_position": null,
            "order": null,
            "overflow": null,
            "overflow_x": null,
            "overflow_y": null,
            "padding": null,
            "right": null,
            "top": null,
            "visibility": null,
            "width": null
          }
        },
        "e7e8483a5ad545e889900da631fa4416": {
          "model_module": "@jupyter-widgets/controls",
          "model_name": "DescriptionStyleModel",
          "model_module_version": "1.5.0",
          "state": {
            "_model_module": "@jupyter-widgets/controls",
            "_model_module_version": "1.5.0",
            "_model_name": "DescriptionStyleModel",
            "_view_count": null,
            "_view_module": "@jupyter-widgets/base",
            "_view_module_version": "1.2.0",
            "_view_name": "StyleView",
            "description_width": ""
          }
        },
        "c98dafcdba3146d792ba452d47d903c8": {
          "model_module": "@jupyter-widgets/controls",
          "model_name": "HBoxModel",
          "model_module_version": "1.5.0",
          "state": {
            "_dom_classes": [],
            "_model_module": "@jupyter-widgets/controls",
            "_model_module_version": "1.5.0",
            "_model_name": "HBoxModel",
            "_view_count": null,
            "_view_module": "@jupyter-widgets/controls",
            "_view_module_version": "1.5.0",
            "_view_name": "HBoxView",
            "box_style": "",
            "children": [
              "IPY_MODEL_8aee2fc6dc164dce97e6767634b1a06f",
              "IPY_MODEL_b365b29f21564867995b2f46f4bb8047",
              "IPY_MODEL_c957e151cab54f29b3d94fa8ae2da1a1"
            ],
            "layout": "IPY_MODEL_04c892d601d34c239465e47b4163a9ab"
          }
        },
        "8aee2fc6dc164dce97e6767634b1a06f": {
          "model_module": "@jupyter-widgets/controls",
          "model_name": "HTMLModel",
          "model_module_version": "1.5.0",
          "state": {
            "_dom_classes": [],
            "_model_module": "@jupyter-widgets/controls",
            "_model_module_version": "1.5.0",
            "_model_name": "HTMLModel",
            "_view_count": null,
            "_view_module": "@jupyter-widgets/controls",
            "_view_module_version": "1.5.0",
            "_view_name": "HTMLView",
            "description": "",
            "description_tooltip": null,
            "layout": "IPY_MODEL_cb2ba55be7dd421881c507408d195602",
            "placeholder": "​",
            "style": "IPY_MODEL_85ce52efe00648f0bc70741a81139033",
            "value": "Downloading pytorch_model.bin: 100%"
          }
        },
        "b365b29f21564867995b2f46f4bb8047": {
          "model_module": "@jupyter-widgets/controls",
          "model_name": "FloatProgressModel",
          "model_module_version": "1.5.0",
          "state": {
            "_dom_classes": [],
            "_model_module": "@jupyter-widgets/controls",
            "_model_module_version": "1.5.0",
            "_model_name": "FloatProgressModel",
            "_view_count": null,
            "_view_module": "@jupyter-widgets/controls",
            "_view_module_version": "1.5.0",
            "_view_name": "ProgressView",
            "bar_style": "success",
            "description": "",
            "description_tooltip": null,
            "layout": "IPY_MODEL_0102a87a77ed49bdbcd957ca57bce49e",
            "max": 440473133,
            "min": 0,
            "orientation": "horizontal",
            "style": "IPY_MODEL_137294fa3993482c99ba8dccd23c2b8f",
            "value": 440473133
          }
        },
        "c957e151cab54f29b3d94fa8ae2da1a1": {
          "model_module": "@jupyter-widgets/controls",
          "model_name": "HTMLModel",
          "model_module_version": "1.5.0",
          "state": {
            "_dom_classes": [],
            "_model_module": "@jupyter-widgets/controls",
            "_model_module_version": "1.5.0",
            "_model_name": "HTMLModel",
            "_view_count": null,
            "_view_module": "@jupyter-widgets/controls",
            "_view_module_version": "1.5.0",
            "_view_name": "HTMLView",
            "description": "",
            "description_tooltip": null,
            "layout": "IPY_MODEL_1497c0719d5e4dbcb2a37211763258ec",
            "placeholder": "​",
            "style": "IPY_MODEL_ff0cee1c5afe4c5ba8e069e837e9733e",
            "value": " 420M/420M [00:19&lt;00:00, 19.5MB/s]"
          }
        },
        "04c892d601d34c239465e47b4163a9ab": {
          "model_module": "@jupyter-widgets/base",
          "model_name": "LayoutModel",
          "model_module_version": "1.2.0",
          "state": {
            "_model_module": "@jupyter-widgets/base",
            "_model_module_version": "1.2.0",
            "_model_name": "LayoutModel",
            "_view_count": null,
            "_view_module": "@jupyter-widgets/base",
            "_view_module_version": "1.2.0",
            "_view_name": "LayoutView",
            "align_content": null,
            "align_items": null,
            "align_self": null,
            "border": null,
            "bottom": null,
            "display": null,
            "flex": null,
            "flex_flow": null,
            "grid_area": null,
            "grid_auto_columns": null,
            "grid_auto_flow": null,
            "grid_auto_rows": null,
            "grid_column": null,
            "grid_gap": null,
            "grid_row": null,
            "grid_template_areas": null,
            "grid_template_columns": null,
            "grid_template_rows": null,
            "height": null,
            "justify_content": null,
            "justify_items": null,
            "left": null,
            "margin": null,
            "max_height": null,
            "max_width": null,
            "min_height": null,
            "min_width": null,
            "object_fit": null,
            "object_position": null,
            "order": null,
            "overflow": null,
            "overflow_x": null,
            "overflow_y": null,
            "padding": null,
            "right": null,
            "top": null,
            "visibility": null,
            "width": null
          }
        },
        "cb2ba55be7dd421881c507408d195602": {
          "model_module": "@jupyter-widgets/base",
          "model_name": "LayoutModel",
          "model_module_version": "1.2.0",
          "state": {
            "_model_module": "@jupyter-widgets/base",
            "_model_module_version": "1.2.0",
            "_model_name": "LayoutModel",
            "_view_count": null,
            "_view_module": "@jupyter-widgets/base",
            "_view_module_version": "1.2.0",
            "_view_name": "LayoutView",
            "align_content": null,
            "align_items": null,
            "align_self": null,
            "border": null,
            "bottom": null,
            "display": null,
            "flex": null,
            "flex_flow": null,
            "grid_area": null,
            "grid_auto_columns": null,
            "grid_auto_flow": null,
            "grid_auto_rows": null,
            "grid_column": null,
            "grid_gap": null,
            "grid_row": null,
            "grid_template_areas": null,
            "grid_template_columns": null,
            "grid_template_rows": null,
            "height": null,
            "justify_content": null,
            "justify_items": null,
            "left": null,
            "margin": null,
            "max_height": null,
            "max_width": null,
            "min_height": null,
            "min_width": null,
            "object_fit": null,
            "object_position": null,
            "order": null,
            "overflow": null,
            "overflow_x": null,
            "overflow_y": null,
            "padding": null,
            "right": null,
            "top": null,
            "visibility": null,
            "width": null
          }
        },
        "85ce52efe00648f0bc70741a81139033": {
          "model_module": "@jupyter-widgets/controls",
          "model_name": "DescriptionStyleModel",
          "model_module_version": "1.5.0",
          "state": {
            "_model_module": "@jupyter-widgets/controls",
            "_model_module_version": "1.5.0",
            "_model_name": "DescriptionStyleModel",
            "_view_count": null,
            "_view_module": "@jupyter-widgets/base",
            "_view_module_version": "1.2.0",
            "_view_name": "StyleView",
            "description_width": ""
          }
        },
        "0102a87a77ed49bdbcd957ca57bce49e": {
          "model_module": "@jupyter-widgets/base",
          "model_name": "LayoutModel",
          "model_module_version": "1.2.0",
          "state": {
            "_model_module": "@jupyter-widgets/base",
            "_model_module_version": "1.2.0",
            "_model_name": "LayoutModel",
            "_view_count": null,
            "_view_module": "@jupyter-widgets/base",
            "_view_module_version": "1.2.0",
            "_view_name": "LayoutView",
            "align_content": null,
            "align_items": null,
            "align_self": null,
            "border": null,
            "bottom": null,
            "display": null,
            "flex": null,
            "flex_flow": null,
            "grid_area": null,
            "grid_auto_columns": null,
            "grid_auto_flow": null,
            "grid_auto_rows": null,
            "grid_column": null,
            "grid_gap": null,
            "grid_row": null,
            "grid_template_areas": null,
            "grid_template_columns": null,
            "grid_template_rows": null,
            "height": null,
            "justify_content": null,
            "justify_items": null,
            "left": null,
            "margin": null,
            "max_height": null,
            "max_width": null,
            "min_height": null,
            "min_width": null,
            "object_fit": null,
            "object_position": null,
            "order": null,
            "overflow": null,
            "overflow_x": null,
            "overflow_y": null,
            "padding": null,
            "right": null,
            "top": null,
            "visibility": null,
            "width": null
          }
        },
        "137294fa3993482c99ba8dccd23c2b8f": {
          "model_module": "@jupyter-widgets/controls",
          "model_name": "ProgressStyleModel",
          "model_module_version": "1.5.0",
          "state": {
            "_model_module": "@jupyter-widgets/controls",
            "_model_module_version": "1.5.0",
            "_model_name": "ProgressStyleModel",
            "_view_count": null,
            "_view_module": "@jupyter-widgets/base",
            "_view_module_version": "1.2.0",
            "_view_name": "StyleView",
            "bar_color": null,
            "description_width": ""
          }
        },
        "1497c0719d5e4dbcb2a37211763258ec": {
          "model_module": "@jupyter-widgets/base",
          "model_name": "LayoutModel",
          "model_module_version": "1.2.0",
          "state": {
            "_model_module": "@jupyter-widgets/base",
            "_model_module_version": "1.2.0",
            "_model_name": "LayoutModel",
            "_view_count": null,
            "_view_module": "@jupyter-widgets/base",
            "_view_module_version": "1.2.0",
            "_view_name": "LayoutView",
            "align_content": null,
            "align_items": null,
            "align_self": null,
            "border": null,
            "bottom": null,
            "display": null,
            "flex": null,
            "flex_flow": null,
            "grid_area": null,
            "grid_auto_columns": null,
            "grid_auto_flow": null,
            "grid_auto_rows": null,
            "grid_column": null,
            "grid_gap": null,
            "grid_row": null,
            "grid_template_areas": null,
            "grid_template_columns": null,
            "grid_template_rows": null,
            "height": null,
            "justify_content": null,
            "justify_items": null,
            "left": null,
            "margin": null,
            "max_height": null,
            "max_width": null,
            "min_height": null,
            "min_width": null,
            "object_fit": null,
            "object_position": null,
            "order": null,
            "overflow": null,
            "overflow_x": null,
            "overflow_y": null,
            "padding": null,
            "right": null,
            "top": null,
            "visibility": null,
            "width": null
          }
        },
        "ff0cee1c5afe4c5ba8e069e837e9733e": {
          "model_module": "@jupyter-widgets/controls",
          "model_name": "DescriptionStyleModel",
          "model_module_version": "1.5.0",
          "state": {
            "_model_module": "@jupyter-widgets/controls",
            "_model_module_version": "1.5.0",
            "_model_name": "DescriptionStyleModel",
            "_view_count": null,
            "_view_module": "@jupyter-widgets/base",
            "_view_module_version": "1.2.0",
            "_view_name": "StyleView",
            "description_width": ""
          }
        },
        "fffb8da4b8864b5684d98b02076e5809": {
          "model_module": "@jupyter-widgets/controls",
          "model_name": "HBoxModel",
          "model_module_version": "1.5.0",
          "state": {
            "_dom_classes": [],
            "_model_module": "@jupyter-widgets/controls",
            "_model_module_version": "1.5.0",
            "_model_name": "HBoxModel",
            "_view_count": null,
            "_view_module": "@jupyter-widgets/controls",
            "_view_module_version": "1.5.0",
            "_view_name": "HBoxView",
            "box_style": "",
            "children": [
              "IPY_MODEL_f14387afdd90416ab94b351653d3f639",
              "IPY_MODEL_da8c9bf804824a1290800a82a8431c88",
              "IPY_MODEL_b3da42bfa3204f898ed01f6050d2b696"
            ],
            "layout": "IPY_MODEL_57d6c4ed0d2d4d8e95d959b4eb5dab4c"
          }
        },
        "f14387afdd90416ab94b351653d3f639": {
          "model_module": "@jupyter-widgets/controls",
          "model_name": "HTMLModel",
          "model_module_version": "1.5.0",
          "state": {
            "_dom_classes": [],
            "_model_module": "@jupyter-widgets/controls",
            "_model_module_version": "1.5.0",
            "_model_name": "HTMLModel",
            "_view_count": null,
            "_view_module": "@jupyter-widgets/controls",
            "_view_module_version": "1.5.0",
            "_view_name": "HTMLView",
            "description": "",
            "description_tooltip": null,
            "layout": "IPY_MODEL_5baef703b18c415495c2ee75bb7d4e46",
            "placeholder": "​",
            "style": "IPY_MODEL_c354b5c9ac21476c87469b2cb65e42ce",
            "value": "100%"
          }
        },
        "da8c9bf804824a1290800a82a8431c88": {
          "model_module": "@jupyter-widgets/controls",
          "model_name": "FloatProgressModel",
          "model_module_version": "1.5.0",
          "state": {
            "_dom_classes": [],
            "_model_module": "@jupyter-widgets/controls",
            "_model_module_version": "1.5.0",
            "_model_name": "FloatProgressModel",
            "_view_count": null,
            "_view_module": "@jupyter-widgets/controls",
            "_view_module_version": "1.5.0",
            "_view_name": "ProgressView",
            "bar_style": "success",
            "description": "",
            "description_tooltip": null,
            "layout": "IPY_MODEL_f18afde4f2a545fd84b9b498510b0baa",
            "max": 2636,
            "min": 0,
            "orientation": "horizontal",
            "style": "IPY_MODEL_2a51f53a9c8d4f89bf272326236e76e3",
            "value": 2636
          }
        },
        "b3da42bfa3204f898ed01f6050d2b696": {
          "model_module": "@jupyter-widgets/controls",
          "model_name": "HTMLModel",
          "model_module_version": "1.5.0",
          "state": {
            "_dom_classes": [],
            "_model_module": "@jupyter-widgets/controls",
            "_model_module_version": "1.5.0",
            "_model_name": "HTMLModel",
            "_view_count": null,
            "_view_module": "@jupyter-widgets/controls",
            "_view_module_version": "1.5.0",
            "_view_name": "HTMLView",
            "description": "",
            "description_tooltip": null,
            "layout": "IPY_MODEL_a58c4596ae1b4606a5df232db79f8913",
            "placeholder": "​",
            "style": "IPY_MODEL_c2ea88b08707447ca103e4b30881076b",
            "value": " 2636/2636 [1:27:59&lt;00:00,  4.07s/it]"
          }
        },
        "57d6c4ed0d2d4d8e95d959b4eb5dab4c": {
          "model_module": "@jupyter-widgets/base",
          "model_name": "LayoutModel",
          "model_module_version": "1.2.0",
          "state": {
            "_model_module": "@jupyter-widgets/base",
            "_model_module_version": "1.2.0",
            "_model_name": "LayoutModel",
            "_view_count": null,
            "_view_module": "@jupyter-widgets/base",
            "_view_module_version": "1.2.0",
            "_view_name": "LayoutView",
            "align_content": null,
            "align_items": null,
            "align_self": null,
            "border": null,
            "bottom": null,
            "display": null,
            "flex": null,
            "flex_flow": null,
            "grid_area": null,
            "grid_auto_columns": null,
            "grid_auto_flow": null,
            "grid_auto_rows": null,
            "grid_column": null,
            "grid_gap": null,
            "grid_row": null,
            "grid_template_areas": null,
            "grid_template_columns": null,
            "grid_template_rows": null,
            "height": null,
            "justify_content": null,
            "justify_items": null,
            "left": null,
            "margin": null,
            "max_height": null,
            "max_width": null,
            "min_height": null,
            "min_width": null,
            "object_fit": null,
            "object_position": null,
            "order": null,
            "overflow": null,
            "overflow_x": null,
            "overflow_y": null,
            "padding": null,
            "right": null,
            "top": null,
            "visibility": null,
            "width": null
          }
        },
        "5baef703b18c415495c2ee75bb7d4e46": {
          "model_module": "@jupyter-widgets/base",
          "model_name": "LayoutModel",
          "model_module_version": "1.2.0",
          "state": {
            "_model_module": "@jupyter-widgets/base",
            "_model_module_version": "1.2.0",
            "_model_name": "LayoutModel",
            "_view_count": null,
            "_view_module": "@jupyter-widgets/base",
            "_view_module_version": "1.2.0",
            "_view_name": "LayoutView",
            "align_content": null,
            "align_items": null,
            "align_self": null,
            "border": null,
            "bottom": null,
            "display": null,
            "flex": null,
            "flex_flow": null,
            "grid_area": null,
            "grid_auto_columns": null,
            "grid_auto_flow": null,
            "grid_auto_rows": null,
            "grid_column": null,
            "grid_gap": null,
            "grid_row": null,
            "grid_template_areas": null,
            "grid_template_columns": null,
            "grid_template_rows": null,
            "height": null,
            "justify_content": null,
            "justify_items": null,
            "left": null,
            "margin": null,
            "max_height": null,
            "max_width": null,
            "min_height": null,
            "min_width": null,
            "object_fit": null,
            "object_position": null,
            "order": null,
            "overflow": null,
            "overflow_x": null,
            "overflow_y": null,
            "padding": null,
            "right": null,
            "top": null,
            "visibility": null,
            "width": null
          }
        },
        "c354b5c9ac21476c87469b2cb65e42ce": {
          "model_module": "@jupyter-widgets/controls",
          "model_name": "DescriptionStyleModel",
          "model_module_version": "1.5.0",
          "state": {
            "_model_module": "@jupyter-widgets/controls",
            "_model_module_version": "1.5.0",
            "_model_name": "DescriptionStyleModel",
            "_view_count": null,
            "_view_module": "@jupyter-widgets/base",
            "_view_module_version": "1.2.0",
            "_view_name": "StyleView",
            "description_width": ""
          }
        },
        "f18afde4f2a545fd84b9b498510b0baa": {
          "model_module": "@jupyter-widgets/base",
          "model_name": "LayoutModel",
          "model_module_version": "1.2.0",
          "state": {
            "_model_module": "@jupyter-widgets/base",
            "_model_module_version": "1.2.0",
            "_model_name": "LayoutModel",
            "_view_count": null,
            "_view_module": "@jupyter-widgets/base",
            "_view_module_version": "1.2.0",
            "_view_name": "LayoutView",
            "align_content": null,
            "align_items": null,
            "align_self": null,
            "border": null,
            "bottom": null,
            "display": null,
            "flex": null,
            "flex_flow": null,
            "grid_area": null,
            "grid_auto_columns": null,
            "grid_auto_flow": null,
            "grid_auto_rows": null,
            "grid_column": null,
            "grid_gap": null,
            "grid_row": null,
            "grid_template_areas": null,
            "grid_template_columns": null,
            "grid_template_rows": null,
            "height": null,
            "justify_content": null,
            "justify_items": null,
            "left": null,
            "margin": null,
            "max_height": null,
            "max_width": null,
            "min_height": null,
            "min_width": null,
            "object_fit": null,
            "object_position": null,
            "order": null,
            "overflow": null,
            "overflow_x": null,
            "overflow_y": null,
            "padding": null,
            "right": null,
            "top": null,
            "visibility": null,
            "width": null
          }
        },
        "2a51f53a9c8d4f89bf272326236e76e3": {
          "model_module": "@jupyter-widgets/controls",
          "model_name": "ProgressStyleModel",
          "model_module_version": "1.5.0",
          "state": {
            "_model_module": "@jupyter-widgets/controls",
            "_model_module_version": "1.5.0",
            "_model_name": "ProgressStyleModel",
            "_view_count": null,
            "_view_module": "@jupyter-widgets/base",
            "_view_module_version": "1.2.0",
            "_view_name": "StyleView",
            "bar_color": null,
            "description_width": ""
          }
        },
        "a58c4596ae1b4606a5df232db79f8913": {
          "model_module": "@jupyter-widgets/base",
          "model_name": "LayoutModel",
          "model_module_version": "1.2.0",
          "state": {
            "_model_module": "@jupyter-widgets/base",
            "_model_module_version": "1.2.0",
            "_model_name": "LayoutModel",
            "_view_count": null,
            "_view_module": "@jupyter-widgets/base",
            "_view_module_version": "1.2.0",
            "_view_name": "LayoutView",
            "align_content": null,
            "align_items": null,
            "align_self": null,
            "border": null,
            "bottom": null,
            "display": null,
            "flex": null,
            "flex_flow": null,
            "grid_area": null,
            "grid_auto_columns": null,
            "grid_auto_flow": null,
            "grid_auto_rows": null,
            "grid_column": null,
            "grid_gap": null,
            "grid_row": null,
            "grid_template_areas": null,
            "grid_template_columns": null,
            "grid_template_rows": null,
            "height": null,
            "justify_content": null,
            "justify_items": null,
            "left": null,
            "margin": null,
            "max_height": null,
            "max_width": null,
            "min_height": null,
            "min_width": null,
            "object_fit": null,
            "object_position": null,
            "order": null,
            "overflow": null,
            "overflow_x": null,
            "overflow_y": null,
            "padding": null,
            "right": null,
            "top": null,
            "visibility": null,
            "width": null
          }
        },
        "c2ea88b08707447ca103e4b30881076b": {
          "model_module": "@jupyter-widgets/controls",
          "model_name": "DescriptionStyleModel",
          "model_module_version": "1.5.0",
          "state": {
            "_model_module": "@jupyter-widgets/controls",
            "_model_module_version": "1.5.0",
            "_model_name": "DescriptionStyleModel",
            "_view_count": null,
            "_view_module": "@jupyter-widgets/base",
            "_view_module_version": "1.2.0",
            "_view_name": "StyleView",
            "description_width": ""
          }
        }
      }
    }
  },
  "nbformat": 4,
  "nbformat_minor": 0
}